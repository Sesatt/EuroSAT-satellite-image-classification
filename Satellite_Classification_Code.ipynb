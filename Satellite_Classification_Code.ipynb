{
  "cells": [
    {
      "cell_type": "markdown",
      "metadata": {
        "id": "NZBHH6mQ6k7G"
      },
      "source": [
        "###  **EuroSAT - Satellite Image Classification**\n",
        "\n",
        "**Code by**: Seraphin Sattler\n",
        "\n",
        "**Network Architecture**: Convolutional Neural Network"
      ]
    },
    {
      "cell_type": "markdown",
      "metadata": {
        "id": "7cBt4BYi6k7I"
      },
      "source": [
        "## **1. Setup of the Notebook Environment**\n",
        "\n",
        "\n"
      ]
    },
    {
      "cell_type": "code",
      "execution_count": null,
      "metadata": {
        "id": "KC6YVQ1f6k7J",
        "colab": {
          "base_uri": "https://localhost:8080/"
        },
        "outputId": "68c7ea56-30d9-4d03-89d2-50f64582fb7f"
      },
      "outputs": [
        {
          "output_type": "stream",
          "name": "stdout",
          "text": [
            "\u001b[K     |████████████████████████████████| 19.3 MB 4.3 MB/s \n",
            "\u001b[?25h"
          ]
        }
      ],
      "source": [
        "import os\n",
        "import glob\n",
        "import numpy as np\n",
        "!pip -q install rasterio\n",
        "import rasterio as rio\n",
        "from rasterio.plot import reshape_as_image, reshape_as_raster\n",
        "import matplotlib.pyplot as plt\n",
        "%matplotlib inline"
      ]
    },
    {
      "cell_type": "markdown",
      "metadata": {
        "id": "fV51btKf6k7K"
      },
      "source": [
        "## **2. Data Gathering**"
      ]
    },
    {
      "cell_type": "markdown",
      "source": [
        "### **2.1 Training Data**"
      ],
      "metadata": {
        "id": "QPGQvLC5q6Jr"
      }
    },
    {
      "cell_type": "code",
      "execution_count": null,
      "metadata": {
        "id": "IHrzf6gT6k7L",
        "colab": {
          "base_uri": "https://localhost:8080/"
        },
        "outputId": "303ce2db-6cb8-47b6-f864-ceac31b810bc"
      },
      "outputs": [
        {
          "output_type": "stream",
          "name": "stdout",
          "text": [
            "--2022-05-22 13:49:23--  https://madm.dfki.de/files/sentinel/EuroSATallBands.zip\n",
            "Resolving madm.dfki.de (madm.dfki.de)... 131.246.195.183\n",
            "Connecting to madm.dfki.de (madm.dfki.de)|131.246.195.183|:443... connected.\n",
            "HTTP request sent, awaiting response... 200 OK\n",
            "Length: 2067725275 (1.9G) [application/zip]\n",
            "Saving to: ‘EuroSATallBands.zip’\n",
            "\n",
            "EuroSATallBands.zip 100%[===================>]   1.92G  10.8MB/s    in 3m 5s   \n",
            "\n",
            "2022-05-22 13:52:30 (10.6 MB/s) - ‘EuroSATallBands.zip’ saved [2067725275/2067725275]\n",
            "\n"
          ]
        }
      ],
      "source": [
        "!wget https://madm.dfki.de/files/sentinel/EuroSATallBands.zip"
      ]
    },
    {
      "cell_type": "code",
      "source": [
        "!unzip -q \"/content/EuroSATallBands.zip\""
      ],
      "metadata": {
        "id": "xTogrUz8SQ-b"
      },
      "execution_count": null,
      "outputs": []
    },
    {
      "cell_type": "code",
      "execution_count": null,
      "metadata": {
        "id": "L4XHtX8Y6k7N",
        "colab": {
          "base_uri": "https://localhost:8080/"
        },
        "outputId": "faf42724-3c45-4914-9f4b-6e19f37a5c2d"
      },
      "outputs": [
        {
          "output_type": "stream",
          "name": "stdout",
          "text": [
            "27000 trainingset samples with 10 different classes\n"
          ]
        }
      ],
      "source": [
        "# change this to your eurosat path\n",
        "eurosat_dir = \"/content/ds/images/remote_sensing/otherDatasets/sentinel_2/tif\"\n",
        "samples = glob.glob(os.path.join(eurosat_dir, \"*\", \"*.tif\"))\n",
        "print(str(len(samples)) + \" trainingset samples with 10 different classes\")"
      ]
    },
    {
      "cell_type": "markdown",
      "metadata": {
        "id": "2aCBCahn6k7R"
      },
      "source": [
        "### **2. Testset Data**"
      ]
    },
    {
      "cell_type": "code",
      "source": [
        "# import the Google Colab GDrive connector\n",
        "from google.colab import drive\n",
        "\n",
        "# mount GDrive inside the Colab notebook\n",
        "drive.mount('/content/drive')"
      ],
      "metadata": {
        "id": "l59Y5JWrS71V",
        "colab": {
          "base_uri": "https://localhost:8080/"
        },
        "outputId": "b6921664-c99d-433c-c4ab-a5ecc59a3f84"
      },
      "execution_count": null,
      "outputs": [
        {
          "output_type": "stream",
          "name": "stdout",
          "text": [
            "Mounted at /content/drive\n"
          ]
        }
      ]
    },
    {
      "cell_type": "code",
      "source": [
        "!unzip -q \"/content/drive/MyDrive/Colab Notebooks/coding_challenge/testset.zip\" #\"/content/drive/MyDrive/Colab Notebooks/coding_challenge/Data/testset.zip\"\n",
        "testset_dir = \"/content/testset\"\n",
        "test_samples = glob.glob(os.path.join(testset_dir, \"*.npy\"))\n",
        "print(str(len(test_samples)) + \" testset samples\")"
      ],
      "metadata": {
        "id": "I4gKfjGkMtJc",
        "colab": {
          "base_uri": "https://localhost:8080/"
        },
        "outputId": "848fe7ec-b64c-46fc-ae53-d58f935776ef"
      },
      "execution_count": null,
      "outputs": [
        {
          "output_type": "stream",
          "name": "stdout",
          "text": [
            "4232 testset samples\n"
          ]
        }
      ]
    },
    {
      "cell_type": "markdown",
      "metadata": {
        "id": "OkFRRHti6k7N"
      },
      "source": [
        "## **3. Data Assessment**\n"
      ]
    },
    {
      "cell_type": "code",
      "execution_count": null,
      "metadata": {
        "id": "uZXBnGui6k7N"
      },
      "outputs": [],
      "source": [
        "def normalize_for_display(band_data):\n",
        "    \"\"\"Normalize multi-spectral imagery across bands.\n",
        "    The input is expected to be in HxWxC format, e.g. 64x64x13.\n",
        "    To account for outliers (e.g. extremly high values due to\n",
        "    reflective surfaces), we normalize with the 2- and 98-percentiles\n",
        "    instead of minimum and maximum of each band.\n",
        "    \"\"\"\n",
        "    band_data = np.array(band_data)\n",
        "    lower_perc = np.percentile(band_data, 2, axis=(0,1))\n",
        "    upper_perc = np.percentile(band_data, 98, axis=(0,1))\n",
        "    \n",
        "    return (band_data - lower_perc) / (upper_perc - lower_perc)"
      ]
    },
    {
      "cell_type": "markdown",
      "metadata": {
        "id": "L9EYtSfQ6k7R"
      },
      "source": [
        "Now let's visualize a sample as we did for Eurosat"
      ]
    },
    {
      "cell_type": "markdown",
      "source": [
        "### **3.1 Visualize Training Data**"
      ],
      "metadata": {
        "id": "jN8ZqBy3slpA"
      }
    },
    {
      "cell_type": "code",
      "source": [
        "#load image\n",
        "sample_idx = 25000\n",
        "sample = samples[sample_idx]\n",
        "label = sample.split('/')[-1].split('_')[0]\n",
        "\n",
        "with rio.open(sample, \"r\") as d:\n",
        "    img = d.read([1,2,3,4,5,6,7,8,9,10,11,12,13])\n",
        "\n",
        "#reshape to (64x64x13) to match the convention of matplotlib \n",
        "img = reshape_as_image(np.array(img))\n",
        "\n",
        "#normalize image across bands\n",
        "normalized_img = normalize_for_display(img)\n",
        "\n",
        "fig, axs = plt.subplots(4,4, figsize=(15,15))\n",
        "\n",
        "band_idx = 0\n",
        "bands = [\"B1\",\"B2\",\"B3\",\"B4\",\"B5\",\"B6\",\"B7\",\"B8\",\"B8A\",\"B9\",\"B10\",\"B11\",\"B12\"]\n",
        "\n",
        "for i in range(4):\n",
        "    for j in range(4):\n",
        "        if band_idx < 13:\n",
        "            axs[i,j].imshow(normalized_img[:, :, band_idx], cmap=\"gray\")\n",
        "            axs[i,j].set_title(bands[band_idx])\n",
        "        else:\n",
        "            axs[i,j].imshow(np.ones((64,64,3)), cmap=\"gray\")\n",
        "        \n",
        "        axs[i,j].axis(False)\n",
        "        band_idx += 1\n",
        "        \n",
        "plt.tight_layout()\n",
        "plt.show()"
      ],
      "metadata": {
        "colab": {
          "base_uri": "https://localhost:8080/",
          "height": 1000
        },
        "id": "6O0098jdsduQ",
        "outputId": "6f394532-ff71-4e77-e7ab-97e162948f0b"
      },
      "execution_count": null,
      "outputs": [
        {
          "output_type": "display_data",
          "data": {
            "text/plain": [
              "<Figure size 1080x1080 with 16 Axes>"
            ],
            "image/png": "[encoded data removed]"
          },
          "metadata": {
            "needs_background": "light"
          }
        }
      ]
    },
    {
      "cell_type": "markdown",
      "source": [
        "### **3.2 Visualize Test Data**"
      ],
      "metadata": {
        "id": "2cF3F1pHstnW"
      }
    },
    {
      "cell_type": "code",
      "source": [
        "test_idx = 10\n",
        "test_img = np.load(test_samples[test_idx])\n",
        "normalized_img = normalize_for_display(test_img)\n",
        "\n",
        "fig, axs = plt.subplots(4,4, figsize=(15,15))\n",
        "\n",
        "band_idx = 0\n",
        "bands = [\"B1\",\"B2\",\"B3\",\"B4\",\"B5\",\"B6\",\"B7\",\"B8\",\"B8A\",\"B9\",\"B10\",\"B11\",\"B12\"]\n",
        "\n",
        "for i in range(4):\n",
        "    for j in range(4):\n",
        "        if band_idx < 12:\n",
        "            axs[i,j].imshow(normalized_img[:, :, band_idx], cmap=\"gray\")\n",
        "            axs[i,j].set_title(bands[band_idx])\n",
        "        else:\n",
        "            axs[i,j].imshow(np.ones((64,64,3)), cmap=\"gray\")\n",
        "        \n",
        "        axs[i,j].axis(False)\n",
        "        band_idx += 1\n",
        "        \n",
        "plt.tight_layout()\n",
        "plt.show()"
      ],
      "metadata": {
        "colab": {
          "base_uri": "https://localhost:8080/",
          "height": 1000
        },
        "id": "1bObxVUhskHt",
        "outputId": "7d1b5fe1-f344-4b79-9247-c6907acce72a"
      },
      "execution_count": null,
      "outputs": [
        {
          "output_type": "display_data",
          "data": {
            "text/plain": [
              "<Figure size 1080x1080 with 16 Axes>"
            ],
            "image/png": "[encoded data removed]"
          },
          "metadata": {
            "needs_background": "light"
          }
        }
      ]
    },
    {
      "cell_type": "markdown",
      "source": [
        "### **3.3 Findings and Modifications**\n",
        "\n",
        "Looking closely at the above displayed picture, there are two main points that require some adjustment:\n",
        "\n",
        "1. B9 from Training set is not included in test set --> remove for training\n",
        "2. B12 in the training set corresponds to B8A in the test set. Therefore the last band in the training set has to be moved to the 9th position, whereby the current bands B8A to B11 are shifted one position up."
      ],
      "metadata": {
        "id": "WT9WbLP0uG-T"
      }
    },
    {
      "cell_type": "markdown",
      "source": [
        "## **4. Data Preprocessing and Augmentation**"
      ],
      "metadata": {
        "id": "FTa_IxPiyP97"
      }
    },
    {
      "cell_type": "markdown",
      "source": [
        "### **4.1 Setup the Environment**"
      ],
      "metadata": {
        "id": "2asAXf2Ny1XC"
      }
    },
    {
      "cell_type": "code",
      "execution_count": null,
      "metadata": {
        "id": "D2fjs6k16k7M"
      },
      "outputs": [],
      "source": [
        "classes = [\n",
        "    \"AnnualCrop\",\n",
        "    \"Forest\",\n",
        "    \"HerbaceousVegetation\",\n",
        "    \"Highway\",\n",
        "    \"Industrial\",\n",
        "    \"Pasture\",\n",
        "    \"PermanentCrop\",\n",
        "    \"Residential\",\n",
        "    \"River\",\n",
        "    \"SeaLake\",\n",
        "]"
      ]
    },
    {
      "cell_type": "code",
      "execution_count": null,
      "metadata": {
        "id": "3vw_TUZl6k7V"
      },
      "outputs": [],
      "source": [
        "import os, urllib, io\n",
        "from datetime import datetime\n",
        "import numpy as np\n",
        "from numpy.random import default_rng\n",
        "from scipy.ndimage import gaussian_filter\n",
        "# import the PyTorch deep learning library\n",
        "import torch, torchvision\n",
        "import torch.nn.functional as F\n",
        "from torch import nn, optim\n",
        "# import sklearn classification evaluation library\n",
        "from sklearn import metrics\n",
        "from sklearn.metrics import confusion_matrix "
      ]
    },
    {
      "cell_type": "code",
      "source": [
        "# create the data sub-directory\n",
        "data_directory = './ConvNet/data_eurosat'\n",
        "if not os.path.exists(data_directory): os.makedirs(data_directory)\n",
        "\n",
        "# create the models sub-directory\n",
        "models_directory = './ConvNet/models_eurosat'\n",
        "if not os.path.exists(models_directory): os.makedirs(models_directory) "
      ],
      "metadata": {
        "id": "ik3TPwcLUX2W"
      },
      "execution_count": null,
      "outputs": []
    },
    {
      "cell_type": "code",
      "source": [
        "# init deterministic seed\n",
        "seed_value = 1234\n",
        "np.random.seed(seed_value) # set numpy seed\n",
        "torch.manual_seed(seed_value) # set pytorch seed CPU"
      ],
      "metadata": {
        "colab": {
          "base_uri": "https://localhost:8080/"
        },
        "id": "LdJlsyD7Qh5X",
        "outputId": "f5ee9b2f-cf1b-481f-cfce-4cfb0eb9ade1"
      },
      "execution_count": null,
      "outputs": [
        {
          "output_type": "execute_result",
          "data": {
            "text/plain": [
              "<torch._C.Generator at 0x7efd167c1af0>"
            ]
          },
          "metadata": {},
          "execution_count": 14
        }
      ]
    },
    {
      "cell_type": "code",
      "source": [
        "# set cpu or gpu enabled device\n",
        "device = torch.device('cuda' if torch.cuda.is_available() else 'cpu').type\n",
        "\n",
        "# init deterministic GPU seed\n",
        "torch.cuda.manual_seed(seed_value)\n",
        "\n",
        "# log type of device enabled\n",
        "print('[LOG] notebook with {} computation enabled'.format(str(device)))"
      ],
      "metadata": {
        "colab": {
          "base_uri": "https://localhost:8080/"
        },
        "id": "0E1tJrMcQmx9",
        "outputId": "0be99746-fe4e-4409-b890-0544647c025d"
      },
      "execution_count": null,
      "outputs": [
        {
          "output_type": "stream",
          "name": "stdout",
          "text": [
            "[LOG] notebook with cuda computation enabled\n"
          ]
        }
      ]
    },
    {
      "cell_type": "code",
      "source": [
        "import os\n",
        "os.environ['CUDA_LAUNCH_BLOCKING'] = '1'"
      ],
      "metadata": {
        "id": "zBFpCR2fsnVz"
      },
      "execution_count": null,
      "outputs": []
    },
    {
      "cell_type": "code",
      "source": [
        "CUDA_LAUNCH_BLOCKING=1"
      ],
      "metadata": {
        "id": "vugmPFk0qucU"
      },
      "execution_count": null,
      "outputs": []
    },
    {
      "cell_type": "markdown",
      "source": [
        "### **4.2 Data Preprocessing**"
      ],
      "metadata": {
        "id": "POHvH-G7zFZ6"
      }
    },
    {
      "cell_type": "markdown",
      "source": [
        "Two main steps for data preprocessing: \n",
        "1. load all samples in the right order and add NDVI index\n",
        "2. Standardize data across images but within each band"
      ],
      "metadata": {
        "id": "-AoMxuuJ2b4W"
      }
    },
    {
      "cell_type": "code",
      "source": [
        "def data_preparation(sample_paths):\n",
        "  \"\"\"Input: list of paths where images are saved. \n",
        "  Images are loaded, bands are put into the right order and NDVI index is added.\n",
        "  Output: Images as array of shape (NxHxWxC) + corresponding array of labels\"\"\" \n",
        "\n",
        "  data_list = []\n",
        "  data_array = np.empty((0, 64, 64, 13), dtype = np.float16)\n",
        "  labels = np.array([])\n",
        "\n",
        "  #loop through sample paths to load all samples\n",
        "  for i in range(len(sample_paths)):\n",
        "    sample = sample_paths[i]\n",
        "    label = sample.split('/')[-1].split('_')[0]\n",
        "    label_no = classes.index(label)\n",
        "    labels = np.append(labels,label_no)\n",
        "    \n",
        "    with rio.open(sample, \"r\") as d:      \n",
        "      #read all bands but B9 (index: 10) (which is not in test data)\n",
        "      #move band 13 to position 9 (Band 8A is at last position (13) for training data but at position 9 in test data)\n",
        "      img = d.read([1,2,3,4,5,6,7,8,13,9,11,12])\n",
        "\n",
        "    #reshape to 64x64x12\n",
        "    img = np.moveaxis(img,0,2)\n",
        "\n",
        "    #add NDVI index as additional input channel\n",
        "    img = np.append(img, np.array((img[:,:,7]-img[:,:,3])/(img[:,:,7]+img[:,:,3])).reshape(64,64,1), axis = 2)\n",
        "\n",
        "    data_list.append(img)\n",
        "\n",
        "    #for every 1000 samples append samples to array --> needed to save memory\n",
        "    if (i+1) % 1000 == 0: \n",
        "      data_array = np.append(data_array, np.array(data_list, dtype = np.float16), axis = 0)\n",
        "      data_list = []\n",
        "\n",
        "  return data_array, labels"
      ],
      "metadata": {
        "id": "MMs80RM2Q3tD"
      },
      "execution_count": null,
      "outputs": []
    },
    {
      "cell_type": "code",
      "source": [
        "def normalize_data(images):\n",
        "    \"\"\"Input: array with images of shape (NxHxWxC).\n",
        "    Normalizes / Standardizes data across images but within each band.\n",
        "    Output: Array with normalized images of shape (NxHxWxC)\"\"\"\n",
        "\n",
        "    #set nan to 0\n",
        "    images[np.isnan(images)] = 0\n",
        "\n",
        "    #compute mean and standard deviation. Float16 to save memory\n",
        "    band_mean = np.mean(images, axis = (0,1,2), dtype = np.float64).astype('float16')\n",
        "    band_std = np.std(images, axis = (0,1,2), dtype = np.float64).astype('float16')\n",
        "\n",
        "    #standardize data across images within each band\n",
        "    for i in range(len(band_mean)): \n",
        "      images[:,:,:,i]=(images[:,:,:,i]-band_mean[i])/band_std[i]\n",
        "    \n",
        "    return images"
      ],
      "metadata": {
        "id": "F6rWpc12q42u"
      },
      "execution_count": null,
      "outputs": []
    },
    {
      "cell_type": "code",
      "source": [
        "#Note: divide by 0 error occurs because of NDVI index creation. NAN is later set to 0. \n",
        "data, labels = data_preparation(samples)"
      ],
      "metadata": {
        "id": "tODR0VhN_Wan",
        "colab": {
          "base_uri": "https://localhost:8080/"
        },
        "outputId": "d2af14cc-3ed4-4010-ae35-eeb797546404"
      },
      "execution_count": null,
      "outputs": [
        {
          "output_type": "stream",
          "name": "stderr",
          "text": [
            "/usr/local/lib/python3.7/dist-packages/ipykernel_launcher.py:26: RuntimeWarning: invalid value encountered in true_divide\n"
          ]
        }
      ]
    },
    {
      "cell_type": "code",
      "source": [
        "data = normalize_data(data)"
      ],
      "metadata": {
        "id": "gTeK9IvU3pod"
      },
      "execution_count": null,
      "outputs": []
    },
    {
      "cell_type": "code",
      "source": [
        "print(\"data shape: \", data.shape)\n",
        "print(\"labels shape: \", labels.shape)"
      ],
      "metadata": {
        "colab": {
          "base_uri": "https://localhost:8080/"
        },
        "id": "Do5TKx8h-xPY",
        "outputId": "d1fabd05-8f43-4949-bfd8-7c809fbf68f0"
      },
      "execution_count": null,
      "outputs": [
        {
          "output_type": "stream",
          "name": "stdout",
          "text": [
            "data shape:  (27000, 64, 64, 13)\n",
            "labels shape:  (27000,)\n"
          ]
        }
      ]
    },
    {
      "cell_type": "markdown",
      "source": [
        "### **4.3 Data Augmentation**\n",
        "Two main data augmentation techniques: \n",
        "1. Randomly augment 30% of data by rotating 90°, flipping upside-down or flipping left-right\n",
        "2. Randomly augment 30% of data by eliminating pixel patches of size 12x12"
      ],
      "metadata": {
        "id": "kU6iCIvG8o-T"
      }
    },
    {
      "cell_type": "code",
      "source": [
        "def data_augmentation(data, labels, augmentation_perc = 0.3):\n",
        "  \"\"\"Input: data: 4D array with images of shape (NxHxWxC); labels: 1D array of labels.\n",
        "  Randomly augments 30% (augmentation_perc) of data by rotating 90°, flipping upside-down, or flipping left-to-right\n",
        "  Randomly augments 30% (augmentation_perc) of data by eliminating pixel patches of size 12x12\n",
        "  Output: 4D array of augmented data (NxHxWxC) + 1D array of labels  \n",
        "  \"\"\"\n",
        "\n",
        "  N = len(labels)\n",
        "  adj_data = []\n",
        "\n",
        "  #create random indices (without replacement) to define which images to use for augmentation\n",
        "  augmentation_size = round(augmentation_perc*N)\n",
        "  rotate_idx = np.random.choice(N, size = augmentation_size, replace = False)\n",
        "  eliminate_idx = np.random.choice(N, size = augmentation_size, replace = False)\n",
        "\n",
        "  #data augmentation 1: do randomly either of: flip upside-down, flip left-right, rotate by 90°\n",
        "  for i in range(N): \n",
        "    img = data[i]\n",
        "    label_no = labels[i]\n",
        "    if i in rotate_idx:\n",
        "      rand = np.random.randint(3, size = 1)\n",
        "      if rand == 0: \n",
        "        img_adj1 = np.flipud(img)\n",
        "      elif rand == 1: \n",
        "        img_adj1 = np.fliplr(img)\n",
        "      elif rand == 2: \n",
        "        img_adj1 = np.rot90(img, 1, [0,1])\n",
        "      labels = np.append(labels,label_no)\n",
        "      adj_data.append(img_adj1)\n",
        "    \n",
        "    #data augmentation 2: eliminate patch of size 12x12 from image\n",
        "    if i in eliminate_idx:\n",
        "      q=64\n",
        "      P=q*q\n",
        "      ps=12\n",
        "      IDX = np.random.randint(P)\n",
        "      x0, y0 = np.unravel_index(IDX,(q,q))\n",
        "      x, y, x1, y1 = x0, y0, x0 + ps, y0 + ps\n",
        "      img[x:x1, y:y1,:] = 0.0\n",
        "      img_adj3 = img\n",
        "      labels = np.append(labels, label_no)\n",
        "      adj_data.append(img_adj3)\n",
        "    \n",
        "    #append images to array every 1000 images to save memory\n",
        "    if (i+1) % 1000 == 0: \n",
        "      data = np.append(data, np.array(adj_data, dtype = np.float16), axis = 0)\n",
        "      adj_data = []\n",
        "\n",
        "  # unique, counts = np.unique(labels, return_counts=True)\n",
        "\n",
        "  # size = min(counts)\n",
        "  # adj_indices = []\n",
        "  # for i in range(len(classes)):\n",
        "  #     old_indices = [idx for idx, value in enumerate(labels) if value == i]\n",
        "  #     new_sample = np.random.choice(old_indices, size, replace = False)\n",
        "  #     adj_indices.extend(new_sample)\n",
        "\n",
        "\n",
        "  return data, labels"
      ],
      "metadata": {
        "id": "wtN1ysqfNg5w"
      },
      "execution_count": null,
      "outputs": []
    },
    {
      "cell_type": "code",
      "source": [
        "data, labels = data_augmentation(data, labels)"
      ],
      "metadata": {
        "id": "lnSl9gYXXjeI"
      },
      "execution_count": null,
      "outputs": []
    },
    {
      "cell_type": "code",
      "source": [
        "print(\"data shape: \", data.shape)\n",
        "print(\"labels shape: \", labels.shape)"
      ],
      "metadata": {
        "colab": {
          "base_uri": "https://localhost:8080/"
        },
        "id": "rPr_-jMz9-rH",
        "outputId": "a1b36144-2e92-4b61-d0f2-62a6542ee7bd"
      },
      "execution_count": null,
      "outputs": [
        {
          "output_type": "stream",
          "name": "stdout",
          "text": [
            "data shape:  (43200, 64, 64, 13)\n",
            "labels shape:  (43200,)\n"
          ]
        }
      ]
    },
    {
      "cell_type": "markdown",
      "source": [
        "### **4.4 Creation of own training and test set**\n",
        "We created an own training and test set (80/20) to potentially detect overfitting. Additionally, be put our samples into random order."
      ],
      "metadata": {
        "id": "v2kL4N3N-1-n"
      }
    },
    {
      "cell_type": "code",
      "source": [
        "def randomize(data,labels):\n",
        "  \"\"\"Input: 4D Array with images of shape (NxHxWxC); 1D Array of Labels. \n",
        "  Brings data into random order.\n",
        "  Output: 4D Array with randomly ordered images of shape (NxHxWxC), 1D Array of randomly ordered labels.\"\"\"\n",
        "\n",
        "  N = len(labels)\n",
        "  rand_idx = np.random.choice(N, size = N, replace = False)\n",
        "  data = data[rand_idx]\n",
        "  labels = labels[rand_idx]\n",
        "  return data, labels"
      ],
      "metadata": {
        "id": "cSD_JYWF3LJt"
      },
      "execution_count": null,
      "outputs": []
    },
    {
      "cell_type": "code",
      "source": [
        "def train_test(data, labels, test_size_perc = 0.2):\n",
        "  \"\"\"Input: 4D Array with images of shape (NxHxWxC); 1D Array of Labels. \n",
        "  Divides data into training and our own set of evaluation data to potentially identify overfitting. \n",
        "  Output: 4D Pytorch Tensor with training images of shape (NxHxWxC), 1D Pytorch Tensor of training labels, \n",
        "          4D Pytorch Tensor with test images of shape (NxHxWxC), 1D Pytorch Tensor of test labels\"\"\"\n",
        "\n",
        "  data, labels = randomize(data, labels)\n",
        "    \n",
        "  test_size = int(test_size_perc*len(data))\n",
        "  testset_idx = np.random.choice(len(data), size = test_size, replace = False)\n",
        "\n",
        "  input_test = np.moveaxis(data[testset_idx], 3,1)\n",
        "  target_test = labels[testset_idx]\n",
        "\n",
        "  input_train = np.moveaxis(np.delete(data, testset_idx, axis = 0), 3, 1)\n",
        "  target_train = np.delete(labels, testset_idx, axis = 0)\n",
        "\n",
        "  return torch.from_numpy(input_train), torch.from_numpy(target_train), torch.from_numpy(input_test), torch.from_numpy(target_test)"
      ],
      "metadata": {
        "id": "1AyzQ2GFL7l-"
      },
      "execution_count": null,
      "outputs": []
    },
    {
      "cell_type": "code",
      "source": [
        "train_data, train_labels, test_data, test_labels = train_test(data, labels)"
      ],
      "metadata": {
        "id": "XAtwSSX41yL3"
      },
      "execution_count": null,
      "outputs": []
    },
    {
      "cell_type": "code",
      "source": [
        "print(\"Number of train samples: \", train_data.shape[0])\n",
        "print(\"Number of test samples: \", test_data.shape[0])"
      ],
      "metadata": {
        "colab": {
          "base_uri": "https://localhost:8080/"
        },
        "id": "oLJ4d_N9BQ3S",
        "outputId": "c0edb5a0-e5a1-4e6e-dfa2-2d0afedd90f1"
      },
      "execution_count": null,
      "outputs": [
        {
          "output_type": "stream",
          "name": "stdout",
          "text": [
            "Number of train samples:  34560\n",
            "Number of test samples:  8640\n"
          ]
        }
      ]
    },
    {
      "cell_type": "markdown",
      "source": [
        "## **5. Neural Network Implementation**"
      ],
      "metadata": {
        "id": "s99YuDd9_I9i"
      }
    },
    {
      "cell_type": "markdown",
      "source": [
        "**Model architecture**:\n",
        "\n",
        "* CNN with three layers (32, 64, 128) \n",
        "* Kernel size: 5x5 (padding: 2)\n",
        "* Max pooling after each layer\n",
        "\n",
        "* Fully connected NN with three layers (2048, 2048, 10)\n",
        "* Activation function: ReLu (last layer: Softmax)\n"
      ],
      "metadata": {
        "id": "oNYaclhsASZ4"
      }
    },
    {
      "cell_type": "code",
      "source": [
        "# implement the Eurosat network architecture\n",
        "class EurosatNet(nn.Module):\n",
        "    \n",
        "    # define the class constructor\n",
        "    def __init__(self):\n",
        "        \n",
        "        # call super class constructor\n",
        "        super(EurosatNet, self).__init__()\n",
        "        \n",
        "        # specify convolution layer 1\n",
        "        self.conv1 = nn.Conv2d(in_channels=13, out_channels=32, kernel_size=7, stride=1, padding=3)\n",
        "        \n",
        "        # define max-pooling layer 1\n",
        "        self.pool1 = nn.MaxPool2d(kernel_size=2, stride=2)\n",
        "        \n",
        "        # specify convolution layer 2\n",
        "        self.conv2 = nn.Conv2d(in_channels=32, out_channels=64, kernel_size=7, stride=1, padding=3)\n",
        "        \n",
        "        # define max-pooling layer 2\n",
        "        self.pool2 = nn.MaxPool2d(kernel_size=2, stride=2)\n",
        "\n",
        "        # specify convolution layer 3\n",
        "        self.conv3 = nn.Conv2d(in_channels=64, out_channels=128, kernel_size=7, stride=1, padding=3)\n",
        "        \n",
        "        # define max-pooling layer 2\n",
        "        self.pool3 = nn.MaxPool2d(kernel_size=2, stride=2)\n",
        "        \n",
        "        # specify fc layer 1 - in 128 * 8 * 8, out 2048\n",
        "        self.linear1 = nn.Linear(128 * 8 * 8, 2048, bias=True) # the linearity W*x+b\n",
        "        self.relu1 = nn.ReLU(inplace=True) # the non-linearity\n",
        "        \n",
        "        # specify fc layer 2 - in 2048, out 2048\n",
        "        self.linear2 = nn.Linear(2048, 2048, bias=True) # the linearity W*x+b\n",
        "        self.relu2 = nn.ReLU(inplace=True) # the non-linarity\n",
        "        \n",
        "        # specify fc layer 3 - in 2048, out 10\n",
        "        self.linear3 = nn.Linear(2048, 10) # the linearity W*x+b\n",
        "        self.relu3 = nn.ReLU(inplace=True) # the non-linarity\n",
        "        \n",
        "        # add a softmax to the last layer\n",
        "        self.logsoftmax = nn.LogSoftmax(dim=1) # the softmax\n",
        "        \n",
        "    # define network forward pass\n",
        "    def forward(self, images):\n",
        "        \n",
        "        # high-level feature learning via convolutional layers\n",
        "        \n",
        "        # define conv layer 1 forward pass\n",
        "        x = self.pool1(self.relu1(self.conv1(images)))\n",
        "        \n",
        "        # define conv layer 2 forward pass\n",
        "        x = self.pool2(self.relu2(self.conv2(x)))\n",
        "\n",
        "        # define conv layer 3 forward pass\n",
        "        x = self.pool3(self.relu3(self.conv3(x)))\n",
        "        \n",
        "        # feature flattening\n",
        "        \n",
        "        # reshape image pixels\n",
        "        x = x.view(-1, 128*8*8)\n",
        "        \n",
        "        # combination of feature learning via non-linear layers\n",
        "        \n",
        "        # define fc layer 1 forward pass\n",
        "        x = self.relu1(self.linear1(x))\n",
        "        \n",
        "        # define fc layer 2 forward pass\n",
        "        x = self.relu2(self.linear2(x))\n",
        "        \n",
        "        # define layer 3 forward pass\n",
        "        x = self.logsoftmax(self.linear3(x))\n",
        "        \n",
        "        # return forward pass result\n",
        "        return x"
      ],
      "metadata": {
        "id": "z32yRR4qZOH-"
      },
      "execution_count": null,
      "outputs": []
    },
    {
      "cell_type": "markdown",
      "source": [
        "## **6. Neural Network Training**\n",
        "* Loss: negative log-likelihood\n",
        "* Optimizer: SGD\n",
        "* Number of parameters: 21,518,474\n",
        "* Learning rate: 0.001\n",
        "* Epochs: 200\n",
        "* Batch size: 64"
      ],
      "metadata": {
        "id": "EzJnz2rtGGXn"
      }
    },
    {
      "cell_type": "markdown",
      "source": [
        "### **6.1 Preparing Network training**"
      ],
      "metadata": {
        "id": "GQGj-dzRGibG"
      }
    },
    {
      "cell_type": "code",
      "source": [
        "#initialize EurosatNet model\n",
        "model = EurosatNet()"
      ],
      "metadata": {
        "id": "XepsWLBNX5A8"
      },
      "execution_count": null,
      "outputs": []
    },
    {
      "cell_type": "code",
      "source": [
        "# device = 'cpu'"
      ],
      "metadata": {
        "id": "bJmUsKFDrqms"
      },
      "execution_count": null,
      "outputs": []
    },
    {
      "cell_type": "code",
      "source": [
        "#push the initialized EurosatNet model to the computing device that is enabled\n",
        "model = model.to(device)"
      ],
      "metadata": {
        "id": "dMeJgb69e7bB"
      },
      "execution_count": null,
      "outputs": []
    },
    {
      "cell_type": "code",
      "source": [
        "# init the number of model parameters\n",
        "num_params = 0\n",
        "\n",
        "# iterate over the distinct parameters\n",
        "for param in model.parameters():\n",
        "\n",
        "    # collect number of parameters\n",
        "    num_params += param.numel()\n",
        "    \n",
        "# print the number of model paramters\n",
        "print('[LOG] Number of to be trained EurosatNet model parameters: {}.'.format(num_params))"
      ],
      "metadata": {
        "colab": {
          "base_uri": "https://localhost:8080/"
        },
        "id": "Q3zIm5eYH1wT",
        "outputId": "84d8931d-e2f0-40da-8826-b7af90daf1a6"
      },
      "execution_count": null,
      "outputs": [
        {
          "output_type": "stream",
          "name": "stdout",
          "text": [
            "[LOG] Number of to be trained EurosatNet model parameters: 21518474.\n"
          ]
        }
      ]
    },
    {
      "cell_type": "code",
      "source": [
        "#define loss function and push it to enabled device\n",
        "nll_loss = nn.NLLLoss()\n",
        "nll_loss = nll_loss.to(device)"
      ],
      "metadata": {
        "id": "52_CY_oxfEzD"
      },
      "execution_count": null,
      "outputs": []
    },
    {
      "cell_type": "code",
      "source": [
        "# define learning rate and optimization strategy\n",
        "learning_rate = 0.001\n",
        "optimizer = optim.SGD(params=model.parameters(), lr=learning_rate)"
      ],
      "metadata": {
        "id": "A_GLnLptgpoj"
      },
      "execution_count": null,
      "outputs": []
    },
    {
      "cell_type": "code",
      "source": [
        "# specify the training parameters\n",
        "num_epochs = 200 # number of training epochs\n",
        "mini_batch_size = 64 # size of the mini-batches"
      ],
      "metadata": {
        "id": "78Nl79uOgsuB"
      },
      "execution_count": null,
      "outputs": []
    },
    {
      "cell_type": "code",
      "source": [
        "# transform training data to pytorch dataset\n",
        "train_dataset = torch.utils.data.TensorDataset(train_data, train_labels)"
      ],
      "metadata": {
        "id": "cigrsAJR83ea"
      },
      "execution_count": null,
      "outputs": []
    },
    {
      "cell_type": "code",
      "source": [
        "# transform test data to pytorch dataset\n",
        "test_dataset = torch.utils.data.TensorDataset(test_data, test_labels)"
      ],
      "metadata": {
        "id": "AO6RDgU7N4ul"
      },
      "execution_count": null,
      "outputs": []
    },
    {
      "cell_type": "code",
      "source": [
        "# specifiy and instantiate PyTorch data loader that feeds the image tensors to our neural network\n",
        "train_dataloader = torch.utils.data.DataLoader(train_dataset, batch_size=mini_batch_size, shuffle=True)\n",
        "test_dataloader = torch.utils.data.DataLoader(test_dataset, batch_size=mini_batch_size, shuffle=True)"
      ],
      "metadata": {
        "id": "ZHDpNhXGPwNi"
      },
      "execution_count": null,
      "outputs": []
    },
    {
      "cell_type": "code",
      "source": [
        "#define function to display accracy after each epoch during network training\n",
        "def get_accuracy(output, labels):\n",
        "  \"\"\"Input: Tensor with Output/Predictions, True labels\n",
        "    Calculates classification accuracy for given output\n",
        "    Output: float: accuracy\"\"\"\n",
        "     \n",
        "  _, predicted = torch.max(output.data, 1)\n",
        "  total = labels.size(0)\n",
        "  correct = (predicted == labels).sum().item()\n",
        "  accuracy = correct / total\n",
        "  return accuracy"
      ],
      "metadata": {
        "id": "Crx4EEWMF0sC"
      },
      "execution_count": null,
      "outputs": []
    },
    {
      "cell_type": "markdown",
      "source": [
        "### **6.2 Running the Network training**"
      ],
      "metadata": {
        "id": "S0FqUhj-GnG8"
      }
    },
    {
      "cell_type": "markdown",
      "source": [
        "We train our model and print the training and test loss, as well as training and test accuracy after each epoch."
      ],
      "metadata": {
        "id": "03YJjamzkfga"
      }
    },
    {
      "cell_type": "code",
      "source": [
        "# init collection of training epoch losses\n",
        "train_epoch_losses = []\n",
        "test_epoch_losses = []\n",
        "train_epoch_accuracies = []\n",
        "test_epoch_accuracies = []\n",
        "\n",
        "# set the model in training mode\n",
        "model.train()\n",
        "\n",
        "# train the model\n",
        "for epoch in range(num_epochs):\n",
        "    \n",
        "    # init collection of mini-batch losses\n",
        "    train_mini_batch_losses = []\n",
        "    test_mini_batch_losses = []\n",
        "    train_mini_batch_accuracy = []\n",
        "    test_mini_batch_accuracy = []\n",
        "    \n",
        "    # iterate over all-mini batches\n",
        "    for i, (images, labels) in enumerate(train_dataloader):\n",
        "\n",
        "        #push batch on gpu\n",
        "        labels=labels.to(device, dtype = torch.int64)\n",
        "        images = images.to(device, dtype = torch.float32)\n",
        "\n",
        "\n",
        "        # run forward pass through the network\n",
        "        output = model(images)\n",
        "        \n",
        "        # reset graph gradients\n",
        "        model.zero_grad()\n",
        "        \n",
        "        # determine classification loss and accuracy\n",
        "        loss = nll_loss(output, labels)\n",
        "        accuracy = get_accuracy(output, labels)\n",
        "        \n",
        "        # run backward pass\n",
        "        loss.backward()\n",
        "        \n",
        "        # update network paramaters\n",
        "        optimizer.step()\n",
        "        \n",
        "        # collect mini-batch reconstruction loss\n",
        "        train_mini_batch_losses.append(loss.data.item())\n",
        "        train_mini_batch_accuracy.append(accuracy)\n",
        "\n",
        "    # determine mean min-batch loss of epoch\n",
        "    train_epoch_loss = np.round(np.mean(train_mini_batch_losses),4)\n",
        "    train_epoch_accuracy = np.round(np.mean(train_mini_batch_accuracy),4)\n",
        "\n",
        "    #do the same as above for our own test set\n",
        "    with torch.no_grad():\n",
        "      for i, (images, labels) in enumerate(test_dataloader):\n",
        "        labels=labels.to(device, dtype = torch.int64)\n",
        "        images = images.to(device, dtype = torch.float32)\n",
        "        output = model(images)\n",
        "        loss = nll_loss(output, labels)\n",
        "        accuracy = get_accuracy(output, labels)\n",
        "        test_mini_batch_losses.append(loss.data.item())\n",
        "        test_mini_batch_accuracy.append(accuracy)\n",
        "      test_epoch_loss = np.round(np.mean(test_mini_batch_losses),4)\n",
        "      test_epoch_accuracy = np.round(np.mean(test_mini_batch_accuracy),4)\n",
        "    \n",
        "    # print epoch loss and accuracy of training and test set\n",
        "    now = datetime.utcnow().strftime(\"%Y%m%d-%H:%M:%S\")\n",
        "    print('[LOG {}] epoch: {} train-loss: {} eval-loss: {} train-acc: {} test-acc: {} '.format(str(now), str(epoch), str(train_epoch_loss), str(test_epoch_loss), str(train_epoch_accuracy), str(test_epoch_accuracy)))\n",
        "    \n",
        "    # save model to local directory\n",
        "    model_name = 'eurosat_model_epoch_{}.pth'.format(str(epoch))\n",
        "    info_dict = { \n",
        "    'epoch' : epoch,\n",
        "    'net_state' : model.state_dict(),\n",
        "    'optimizer_state' : optimizer.state_dict()}\n",
        "    torch.save(info_dict, os.path.join(\"./ConvNet/models_eurosat\", model_name))\n",
        "    \n",
        "    # determine mean min-batch loss of epoch\n",
        "    train_epoch_losses.append(train_epoch_loss)\n",
        "    test_epoch_losses.append(test_epoch_loss)\n",
        "\n",
        "    train_epoch_accuracies.append(train_epoch_accuracy)\n",
        "    test_epoch_accuracies.append(test_epoch_accuracy)"
      ],
      "metadata": {
        "colab": {
          "base_uri": "https://localhost:8080/"
        },
        "id": "XpHQwZIfaE6Q",
        "outputId": "d259b984-4fba-4df3-c0aa-fe9fc4f93de8"
      },
      "execution_count": null,
      "outputs": [
        {
          "output_type": "stream",
          "name": "stdout",
          "text": [
            "[LOG 20220522-17:02:54] epoch: 0 train-loss: 2.2482 eval-loss: 2.0662 train-acc: 0.1802 test-acc: 0.1155 \n",
            "[LOG 20220522-17:03:11] epoch: 1 train-loss: 1.8235 eval-loss: 1.5329 train-acc: 0.3341 test-acc: 0.4203 \n",
            "[LOG 20220522-17:03:28] epoch: 2 train-loss: 1.297 eval-loss: 1.1421 train-acc: 0.5201 test-acc: 0.5601 \n",
            "[LOG 20220522-17:03:44] epoch: 3 train-loss: 1.0893 eval-loss: 1.0317 train-acc: 0.5734 test-acc: 0.5856 \n",
            "[LOG 20220522-17:04:01] epoch: 4 train-loss: 0.9941 eval-loss: 0.9502 train-acc: 0.6089 test-acc: 0.6259 \n",
            "[LOG 20220522-17:04:18] epoch: 5 train-loss: 0.9223 eval-loss: 0.8865 train-acc: 0.6416 test-acc: 0.6676 \n",
            "[LOG 20220522-17:04:34] epoch: 6 train-loss: 0.8552 eval-loss: 0.8262 train-acc: 0.6725 test-acc: 0.687 \n",
            "[LOG 20220522-17:04:51] epoch: 7 train-loss: 0.7787 eval-loss: 0.7316 train-acc: 0.7181 test-acc: 0.7513 \n",
            "[LOG 20220522-17:05:07] epoch: 8 train-loss: 0.688 eval-loss: 0.6572 train-acc: 0.7566 test-acc: 0.7688 \n",
            "[LOG 20220522-17:05:24] epoch: 9 train-loss: 0.6091 eval-loss: 0.6055 train-acc: 0.7851 test-acc: 0.7765 \n",
            "[LOG 20220522-17:05:41] epoch: 10 train-loss: 0.5297 eval-loss: 0.528 train-acc: 0.8184 test-acc: 0.8275 \n",
            "[LOG 20220522-17:05:57] epoch: 11 train-loss: 0.4676 eval-loss: 0.4476 train-acc: 0.8405 test-acc: 0.8479 \n",
            "[LOG 20220522-17:06:14] epoch: 12 train-loss: 0.4261 eval-loss: 0.4126 train-acc: 0.8559 test-acc: 0.8608 \n",
            "[LOG 20220522-17:06:30] epoch: 13 train-loss: 0.3969 eval-loss: 0.3812 train-acc: 0.8646 test-acc: 0.8713 \n",
            "[LOG 20220522-17:06:47] epoch: 14 train-loss: 0.372 eval-loss: 0.3667 train-acc: 0.8729 test-acc: 0.873 \n",
            "[LOG 20220522-17:07:04] epoch: 15 train-loss: 0.3554 eval-loss: 0.3463 train-acc: 0.8792 test-acc: 0.885 \n",
            "[LOG 20220522-17:07:20] epoch: 16 train-loss: 0.3404 eval-loss: 0.3723 train-acc: 0.885 test-acc: 0.8723 \n",
            "[LOG 20220522-17:07:37] epoch: 17 train-loss: 0.3231 eval-loss: 0.3246 train-acc: 0.8907 test-acc: 0.8888 \n",
            "[LOG 20220522-17:07:54] epoch: 18 train-loss: 0.3129 eval-loss: 0.3246 train-acc: 0.8928 test-acc: 0.887 \n",
            "[LOG 20220522-17:08:10] epoch: 19 train-loss: 0.2983 eval-loss: 0.3043 train-acc: 0.8984 test-acc: 0.8954 \n",
            "[LOG 20220522-17:08:27] epoch: 20 train-loss: 0.2857 eval-loss: 0.2992 train-acc: 0.9025 test-acc: 0.9032 \n",
            "[LOG 20220522-17:08:43] epoch: 21 train-loss: 0.2759 eval-loss: 0.3058 train-acc: 0.9057 test-acc: 0.8955 \n",
            "[LOG 20220522-17:09:00] epoch: 22 train-loss: 0.2665 eval-loss: 0.2707 train-acc: 0.9095 test-acc: 0.9105 \n",
            "[LOG 20220522-17:09:16] epoch: 23 train-loss: 0.2585 eval-loss: 0.2668 train-acc: 0.9117 test-acc: 0.9126 \n",
            "[LOG 20220522-17:09:33] epoch: 24 train-loss: 0.2495 eval-loss: 0.2569 train-acc: 0.9141 test-acc: 0.916 \n",
            "[LOG 20220522-17:09:49] epoch: 25 train-loss: 0.2427 eval-loss: 0.2771 train-acc: 0.9171 test-acc: 0.9051 \n",
            "[LOG 20220522-17:10:06] epoch: 26 train-loss: 0.2374 eval-loss: 0.2494 train-acc: 0.9191 test-acc: 0.9147 \n",
            "[LOG 20220522-17:10:22] epoch: 27 train-loss: 0.2283 eval-loss: 0.2331 train-acc: 0.9221 test-acc: 0.9221 \n",
            "[LOG 20220522-17:10:39] epoch: 28 train-loss: 0.2218 eval-loss: 0.2225 train-acc: 0.9245 test-acc: 0.9264 \n",
            "[LOG 20220522-17:10:55] epoch: 29 train-loss: 0.2178 eval-loss: 0.2323 train-acc: 0.9265 test-acc: 0.9227 \n",
            "[LOG 20220522-17:11:12] epoch: 30 train-loss: 0.2166 eval-loss: 0.2262 train-acc: 0.9266 test-acc: 0.9219 \n",
            "[LOG 20220522-17:11:29] epoch: 31 train-loss: 0.2089 eval-loss: 0.2208 train-acc: 0.9288 test-acc: 0.9266 \n",
            "[LOG 20220522-17:11:45] epoch: 32 train-loss: 0.2012 eval-loss: 0.2107 train-acc: 0.9317 test-acc: 0.9312 \n",
            "[LOG 20220522-17:12:02] epoch: 33 train-loss: 0.1979 eval-loss: 0.217 train-acc: 0.9313 test-acc: 0.9286 \n",
            "[LOG 20220522-17:12:18] epoch: 34 train-loss: 0.1928 eval-loss: 0.203 train-acc: 0.9347 test-acc: 0.9311 \n",
            "[LOG 20220522-17:12:35] epoch: 35 train-loss: 0.1888 eval-loss: 0.2128 train-acc: 0.9357 test-acc: 0.9302 \n",
            "[LOG 20220522-17:12:52] epoch: 36 train-loss: 0.185 eval-loss: 0.1952 train-acc: 0.9369 test-acc: 0.9353 \n",
            "[LOG 20220522-17:13:08] epoch: 37 train-loss: 0.1836 eval-loss: 0.2095 train-acc: 0.9365 test-acc: 0.9317 \n",
            "[LOG 20220522-17:13:25] epoch: 38 train-loss: 0.1783 eval-loss: 0.1883 train-acc: 0.9382 test-acc: 0.9372 \n",
            "[LOG 20220522-17:13:42] epoch: 39 train-loss: 0.1758 eval-loss: 0.2745 train-acc: 0.9401 test-acc: 0.9109 \n",
            "[LOG 20220522-17:13:58] epoch: 40 train-loss: 0.1726 eval-loss: 0.2054 train-acc: 0.9393 test-acc: 0.9323 \n",
            "[LOG 20220522-17:14:15] epoch: 41 train-loss: 0.1692 eval-loss: 0.1947 train-acc: 0.942 test-acc: 0.9361 \n",
            "[LOG 20220522-17:14:31] epoch: 42 train-loss: 0.1684 eval-loss: 0.2057 train-acc: 0.941 test-acc: 0.9334 \n",
            "[LOG 20220522-17:14:48] epoch: 43 train-loss: 0.1636 eval-loss: 0.1864 train-acc: 0.9424 test-acc: 0.9387 \n",
            "[LOG 20220522-17:15:04] epoch: 44 train-loss: 0.1631 eval-loss: 0.2029 train-acc: 0.9432 test-acc: 0.9316 \n",
            "[LOG 20220522-17:15:21] epoch: 45 train-loss: 0.1591 eval-loss: 0.192 train-acc: 0.9447 test-acc: 0.9354 \n",
            "[LOG 20220522-17:15:38] epoch: 46 train-loss: 0.1578 eval-loss: 0.2001 train-acc: 0.9451 test-acc: 0.9351 \n",
            "[LOG 20220522-17:15:54] epoch: 47 train-loss: 0.1562 eval-loss: 0.2504 train-acc: 0.9459 test-acc: 0.917 \n",
            "[LOG 20220522-17:16:11] epoch: 48 train-loss: 0.1522 eval-loss: 0.1761 train-acc: 0.9478 test-acc: 0.9413 \n",
            "[LOG 20220522-17:16:28] epoch: 49 train-loss: 0.1511 eval-loss: 0.1776 train-acc: 0.9482 test-acc: 0.9418 \n",
            "[LOG 20220522-17:16:44] epoch: 50 train-loss: 0.1474 eval-loss: 0.2155 train-acc: 0.9481 test-acc: 0.9315 \n",
            "[LOG 20220522-17:17:01] epoch: 51 train-loss: 0.1469 eval-loss: 0.1971 train-acc: 0.9491 test-acc: 0.9333 \n",
            "[LOG 20220522-17:17:17] epoch: 52 train-loss: 0.1429 eval-loss: 0.1772 train-acc: 0.9505 test-acc: 0.9417 \n",
            "[LOG 20220522-17:17:34] epoch: 53 train-loss: 0.1417 eval-loss: 0.1643 train-acc: 0.9509 test-acc: 0.945 \n",
            "[LOG 20220522-17:17:50] epoch: 54 train-loss: 0.1393 eval-loss: 0.1775 train-acc: 0.951 test-acc: 0.9397 \n",
            "[LOG 20220522-17:18:07] epoch: 55 train-loss: 0.1376 eval-loss: 0.1701 train-acc: 0.9515 test-acc: 0.9429 \n",
            "[LOG 20220522-17:18:24] epoch: 56 train-loss: 0.135 eval-loss: 0.1954 train-acc: 0.9533 test-acc: 0.9354 \n",
            "[LOG 20220522-17:18:40] epoch: 57 train-loss: 0.1348 eval-loss: 0.1665 train-acc: 0.9523 test-acc: 0.9451 \n",
            "[LOG 20220522-17:18:57] epoch: 58 train-loss: 0.1306 eval-loss: 0.1711 train-acc: 0.9549 test-acc: 0.9442 \n",
            "[LOG 20220522-17:19:13] epoch: 59 train-loss: 0.1294 eval-loss: 0.1675 train-acc: 0.9552 test-acc: 0.9466 \n",
            "[LOG 20220522-17:19:30] epoch: 60 train-loss: 0.1305 eval-loss: 0.1689 train-acc: 0.9557 test-acc: 0.9438 \n",
            "[LOG 20220522-17:19:46] epoch: 61 train-loss: 0.1258 eval-loss: 0.1708 train-acc: 0.9565 test-acc: 0.945 \n",
            "[LOG 20220522-17:20:03] epoch: 62 train-loss: 0.1246 eval-loss: 0.1772 train-acc: 0.9565 test-acc: 0.9403 \n",
            "[LOG 20220522-17:20:20] epoch: 63 train-loss: 0.1244 eval-loss: 0.1615 train-acc: 0.9565 test-acc: 0.9457 \n",
            "[LOG 20220522-17:20:36] epoch: 64 train-loss: 0.1222 eval-loss: 0.1695 train-acc: 0.9577 test-acc: 0.9441 \n",
            "[LOG 20220522-17:20:53] epoch: 65 train-loss: 0.1212 eval-loss: 0.1597 train-acc: 0.9573 test-acc: 0.9486 \n",
            "[LOG 20220522-17:21:10] epoch: 66 train-loss: 0.12 eval-loss: 0.151 train-acc: 0.958 test-acc: 0.951 \n",
            "[LOG 20220522-17:21:26] epoch: 67 train-loss: 0.115 eval-loss: 0.166 train-acc: 0.9599 test-acc: 0.945 \n",
            "[LOG 20220522-17:21:43] epoch: 68 train-loss: 0.1158 eval-loss: 0.149 train-acc: 0.96 test-acc: 0.9521 \n",
            "[LOG 20220522-17:21:59] epoch: 69 train-loss: 0.1136 eval-loss: 0.1786 train-acc: 0.9601 test-acc: 0.9439 \n",
            "[LOG 20220522-17:22:16] epoch: 70 train-loss: 0.1136 eval-loss: 0.1575 train-acc: 0.9614 test-acc: 0.9477 \n",
            "[LOG 20220522-17:22:32] epoch: 71 train-loss: 0.1108 eval-loss: 0.1554 train-acc: 0.9618 test-acc: 0.9487 \n",
            "[LOG 20220522-17:22:49] epoch: 72 train-loss: 0.1085 eval-loss: 0.1575 train-acc: 0.9623 test-acc: 0.9488 \n",
            "[LOG 20220522-17:23:06] epoch: 73 train-loss: 0.1085 eval-loss: 0.1521 train-acc: 0.962 test-acc: 0.95 \n",
            "[LOG 20220522-17:23:22] epoch: 74 train-loss: 0.1064 eval-loss: 0.1445 train-acc: 0.963 test-acc: 0.9545 \n",
            "[LOG 20220522-17:23:39] epoch: 75 train-loss: 0.1076 eval-loss: 0.1512 train-acc: 0.962 test-acc: 0.9502 \n",
            "[LOG 20220522-17:23:55] epoch: 76 train-loss: 0.1028 eval-loss: 0.1451 train-acc: 0.9643 test-acc: 0.9521 \n",
            "[LOG 20220522-17:24:12] epoch: 77 train-loss: 0.1022 eval-loss: 0.1583 train-acc: 0.964 test-acc: 0.9486 \n",
            "[LOG 20220522-17:24:29] epoch: 78 train-loss: 0.1026 eval-loss: 0.1413 train-acc: 0.9644 test-acc: 0.9549 \n",
            "[LOG 20220522-17:24:45] epoch: 79 train-loss: 0.1007 eval-loss: 0.1434 train-acc: 0.9647 test-acc: 0.9537 \n",
            "[LOG 20220522-17:25:02] epoch: 80 train-loss: 0.1019 eval-loss: 0.1502 train-acc: 0.9649 test-acc: 0.9512 \n",
            "[LOG 20220522-17:25:18] epoch: 81 train-loss: 0.0975 eval-loss: 0.1572 train-acc: 0.9661 test-acc: 0.9502 \n",
            "[LOG 20220522-17:25:35] epoch: 82 train-loss: 0.0979 eval-loss: 0.1532 train-acc: 0.9656 test-acc: 0.9491 \n",
            "[LOG 20220522-17:25:51] epoch: 83 train-loss: 0.095 eval-loss: 0.1524 train-acc: 0.9669 test-acc: 0.9498 \n",
            "[LOG 20220522-17:26:08] epoch: 84 train-loss: 0.0929 eval-loss: 0.1468 train-acc: 0.9672 test-acc: 0.9541 \n",
            "[LOG 20220522-17:26:25] epoch: 85 train-loss: 0.0941 eval-loss: 0.1515 train-acc: 0.9672 test-acc: 0.9502 \n",
            "[LOG 20220522-17:26:41] epoch: 86 train-loss: 0.0907 eval-loss: 0.1457 train-acc: 0.969 test-acc: 0.9523 \n",
            "[LOG 20220522-17:26:58] epoch: 87 train-loss: 0.0901 eval-loss: 0.1486 train-acc: 0.9693 test-acc: 0.9544 \n",
            "[LOG 20220522-17:27:15] epoch: 88 train-loss: 0.0888 eval-loss: 0.1415 train-acc: 0.9698 test-acc: 0.9552 \n",
            "[LOG 20220522-17:27:32] epoch: 89 train-loss: 0.0878 eval-loss: 0.1333 train-acc: 0.9698 test-acc: 0.9579 \n",
            "[LOG 20220522-17:27:48] epoch: 90 train-loss: 0.0867 eval-loss: 0.1562 train-acc: 0.9696 test-acc: 0.9531 \n",
            "[LOG 20220522-17:28:05] epoch: 91 train-loss: 0.0849 eval-loss: 0.1405 train-acc: 0.9709 test-acc: 0.9557 \n",
            "[LOG 20220522-17:28:22] epoch: 92 train-loss: 0.0858 eval-loss: 0.1374 train-acc: 0.9698 test-acc: 0.9573 \n",
            "[LOG 20220522-17:28:38] epoch: 93 train-loss: 0.0838 eval-loss: 0.1724 train-acc: 0.9709 test-acc: 0.9448 \n",
            "[LOG 20220522-17:28:55] epoch: 94 train-loss: 0.0844 eval-loss: 0.1402 train-acc: 0.9705 test-acc: 0.9542 \n",
            "[LOG 20220522-17:29:11] epoch: 95 train-loss: 0.082 eval-loss: 0.1422 train-acc: 0.9726 test-acc: 0.9553 \n",
            "[LOG 20220522-17:29:28] epoch: 96 train-loss: 0.0801 eval-loss: 0.1281 train-acc: 0.9732 test-acc: 0.961 \n",
            "[LOG 20220522-17:29:45] epoch: 97 train-loss: 0.0793 eval-loss: 0.1346 train-acc: 0.9732 test-acc: 0.9588 \n",
            "[LOG 20220522-17:30:01] epoch: 98 train-loss: 0.0782 eval-loss: 0.1295 train-acc: 0.9734 test-acc: 0.9603 \n",
            "[LOG 20220522-17:30:18] epoch: 99 train-loss: 0.0779 eval-loss: 0.1351 train-acc: 0.9736 test-acc: 0.959 \n",
            "[LOG 20220522-17:30:35] epoch: 100 train-loss: 0.0764 eval-loss: 0.1341 train-acc: 0.9733 test-acc: 0.9579 \n",
            "[LOG 20220522-17:30:51] epoch: 101 train-loss: 0.0761 eval-loss: 0.1319 train-acc: 0.9729 test-acc: 0.9597 \n",
            "[LOG 20220522-17:31:08] epoch: 102 train-loss: 0.0741 eval-loss: 0.1265 train-acc: 0.9747 test-acc: 0.9608 \n",
            "[LOG 20220522-17:31:25] epoch: 103 train-loss: 0.0729 eval-loss: 0.1528 train-acc: 0.9758 test-acc: 0.9531 \n",
            "[LOG 20220522-17:31:41] epoch: 104 train-loss: 0.0719 eval-loss: 0.1297 train-acc: 0.9761 test-acc: 0.9622 \n",
            "[LOG 20220522-17:31:58] epoch: 105 train-loss: 0.07 eval-loss: 0.1365 train-acc: 0.976 test-acc: 0.9588 \n",
            "[LOG 20220522-17:32:14] epoch: 106 train-loss: 0.0706 eval-loss: 0.1334 train-acc: 0.976 test-acc: 0.9618 \n",
            "[LOG 20220522-17:32:31] epoch: 107 train-loss: 0.071 eval-loss: 0.1264 train-acc: 0.9758 test-acc: 0.9623 \n",
            "[LOG 20220522-17:32:48] epoch: 108 train-loss: 0.0678 eval-loss: 0.1303 train-acc: 0.9775 test-acc: 0.9603 \n",
            "[LOG 20220522-17:33:04] epoch: 109 train-loss: 0.0681 eval-loss: 0.1341 train-acc: 0.9766 test-acc: 0.9583 \n",
            "[LOG 20220522-17:33:21] epoch: 110 train-loss: 0.0695 eval-loss: 0.1314 train-acc: 0.9758 test-acc: 0.9606 \n",
            "[LOG 20220522-17:33:38] epoch: 111 train-loss: 0.0651 eval-loss: 0.1212 train-acc: 0.9783 test-acc: 0.9639 \n",
            "[LOG 20220522-17:33:54] epoch: 112 train-loss: 0.0636 eval-loss: 0.1297 train-acc: 0.9785 test-acc: 0.962 \n",
            "[LOG 20220522-17:34:11] epoch: 113 train-loss: 0.0636 eval-loss: 0.149 train-acc: 0.979 test-acc: 0.9549 \n",
            "[LOG 20220522-17:34:27] epoch: 114 train-loss: 0.0629 eval-loss: 0.1301 train-acc: 0.9789 test-acc: 0.9596 \n",
            "[LOG 20220522-17:34:44] epoch: 115 train-loss: 0.0645 eval-loss: 0.1669 train-acc: 0.9779 test-acc: 0.9492 \n",
            "[LOG 20220522-17:35:00] epoch: 116 train-loss: 0.062 eval-loss: 0.1299 train-acc: 0.9792 test-acc: 0.9623 \n",
            "[LOG 20220522-17:35:17] epoch: 117 train-loss: 0.0622 eval-loss: 0.1331 train-acc: 0.9793 test-acc: 0.9628 \n",
            "[LOG 20220522-17:35:34] epoch: 118 train-loss: 0.0597 eval-loss: 0.1238 train-acc: 0.9799 test-acc: 0.966 \n",
            "[LOG 20220522-17:35:50] epoch: 119 train-loss: 0.06 eval-loss: 0.1381 train-acc: 0.9797 test-acc: 0.9601 \n",
            "[LOG 20220522-17:36:07] epoch: 120 train-loss: 0.0659 eval-loss: 0.1421 train-acc: 0.9799 test-acc: 0.9575 \n",
            "[LOG 20220522-17:36:24] epoch: 121 train-loss: 0.0584 eval-loss: 0.1345 train-acc: 0.9804 test-acc: 0.9606 \n",
            "[LOG 20220522-17:36:40] epoch: 122 train-loss: 0.0581 eval-loss: 0.1273 train-acc: 0.9802 test-acc: 0.963 \n",
            "[LOG 20220522-17:36:57] epoch: 123 train-loss: 0.0559 eval-loss: 0.1471 train-acc: 0.9821 test-acc: 0.9565 \n",
            "[LOG 20220522-17:37:13] epoch: 124 train-loss: 0.0554 eval-loss: 0.1332 train-acc: 0.982 test-acc: 0.9605 \n",
            "[LOG 20220522-17:37:30] epoch: 125 train-loss: 0.0563 eval-loss: 0.1301 train-acc: 0.981 test-acc: 0.9626 \n",
            "[LOG 20220522-17:37:46] epoch: 126 train-loss: 0.0548 eval-loss: 0.1308 train-acc: 0.982 test-acc: 0.9639 \n",
            "[LOG 20220522-17:38:03] epoch: 127 train-loss: 0.0548 eval-loss: 0.15 train-acc: 0.9819 test-acc: 0.956 \n",
            "[LOG 20220522-17:38:20] epoch: 128 train-loss: 0.0523 eval-loss: 0.1213 train-acc: 0.983 test-acc: 0.9664 \n",
            "[LOG 20220522-17:38:36] epoch: 129 train-loss: 0.0523 eval-loss: 0.1256 train-acc: 0.9828 test-acc: 0.9639 \n",
            "[LOG 20220522-17:38:53] epoch: 130 train-loss: 0.0523 eval-loss: 0.1324 train-acc: 0.9822 test-acc: 0.9609 \n",
            "[LOG 20220522-17:39:09] epoch: 131 train-loss: 0.0507 eval-loss: 0.1266 train-acc: 0.9833 test-acc: 0.9645 \n",
            "[LOG 20220522-17:39:26] epoch: 132 train-loss: 0.0517 eval-loss: 0.1216 train-acc: 0.9832 test-acc: 0.9674 \n",
            "[LOG 20220522-17:39:43] epoch: 133 train-loss: 0.0489 eval-loss: 0.1409 train-acc: 0.9837 test-acc: 0.96 \n",
            "[LOG 20220522-17:39:59] epoch: 134 train-loss: 0.0489 eval-loss: 0.1254 train-acc: 0.9839 test-acc: 0.965 \n",
            "[LOG 20220522-17:40:16] epoch: 135 train-loss: 0.0463 eval-loss: 0.1263 train-acc: 0.9848 test-acc: 0.9656 \n",
            "[LOG 20220522-17:40:33] epoch: 136 train-loss: 0.0484 eval-loss: 0.1507 train-acc: 0.9845 test-acc: 0.9576 \n",
            "[LOG 20220522-17:40:49] epoch: 137 train-loss: 0.048 eval-loss: 0.1216 train-acc: 0.9845 test-acc: 0.9662 \n",
            "[LOG 20220522-17:41:06] epoch: 138 train-loss: 0.0457 eval-loss: 0.1206 train-acc: 0.9852 test-acc: 0.9672 \n",
            "[LOG 20220522-17:41:23] epoch: 139 train-loss: 0.0458 eval-loss: 0.1826 train-acc: 0.9853 test-acc: 0.9485 \n",
            "[LOG 20220522-17:41:39] epoch: 140 train-loss: 0.0448 eval-loss: 0.1154 train-acc: 0.9856 test-acc: 0.9662 \n",
            "[LOG 20220522-17:41:56] epoch: 141 train-loss: 0.0426 eval-loss: 0.1215 train-acc: 0.9868 test-acc: 0.9668 \n",
            "[LOG 20220522-17:42:13] epoch: 142 train-loss: 0.0422 eval-loss: 0.1179 train-acc: 0.9868 test-acc: 0.9669 \n",
            "[LOG 20220522-17:42:29] epoch: 143 train-loss: 0.0427 eval-loss: 0.1273 train-acc: 0.9863 test-acc: 0.9639 \n",
            "[LOG 20220522-17:42:46] epoch: 144 train-loss: 0.0426 eval-loss: 0.1455 train-acc: 0.9867 test-acc: 0.9593 \n",
            "[LOG 20220522-17:43:02] epoch: 145 train-loss: 0.0427 eval-loss: 0.1181 train-acc: 0.9868 test-acc: 0.9697 \n",
            "[LOG 20220522-17:43:19] epoch: 146 train-loss: 0.0427 eval-loss: 0.1253 train-acc: 0.9867 test-acc: 0.9666 \n",
            "[LOG 20220522-17:43:35] epoch: 147 train-loss: 0.0429 eval-loss: 0.1164 train-acc: 0.9869 test-acc: 0.9691 \n",
            "[LOG 20220522-17:43:52] epoch: 148 train-loss: 0.0409 eval-loss: 0.1184 train-acc: 0.9875 test-acc: 0.9691 \n",
            "[LOG 20220522-17:44:08] epoch: 149 train-loss: 0.0389 eval-loss: 0.122 train-acc: 0.9881 test-acc: 0.9663 \n",
            "[LOG 20220522-17:44:25] epoch: 150 train-loss: 0.0394 eval-loss: 0.1254 train-acc: 0.9883 test-acc: 0.9664 \n",
            "[LOG 20220522-17:44:41] epoch: 151 train-loss: 0.0394 eval-loss: 0.117 train-acc: 0.9872 test-acc: 0.9675 \n",
            "[LOG 20220522-17:44:58] epoch: 152 train-loss: 0.0368 eval-loss: 0.1243 train-acc: 0.9892 test-acc: 0.9677 \n",
            "[LOG 20220522-17:45:14] epoch: 153 train-loss: 0.0385 eval-loss: 0.1257 train-acc: 0.988 test-acc: 0.9668 \n",
            "[LOG 20220522-17:45:31] epoch: 154 train-loss: 0.0354 eval-loss: 0.1179 train-acc: 0.9891 test-acc: 0.9686 \n",
            "[LOG 20220522-17:45:47] epoch: 155 train-loss: 0.0358 eval-loss: 0.1222 train-acc: 0.9893 test-acc: 0.9675 \n",
            "[LOG 20220522-17:46:04] epoch: 156 train-loss: 0.0352 eval-loss: 0.1185 train-acc: 0.9898 test-acc: 0.9685 \n",
            "[LOG 20220522-17:46:21] epoch: 157 train-loss: 0.0364 eval-loss: 0.1138 train-acc: 0.9891 test-acc: 0.9705 \n",
            "[LOG 20220522-17:46:37] epoch: 158 train-loss: 0.0356 eval-loss: 0.1221 train-acc: 0.9897 test-acc: 0.9679 \n",
            "[LOG 20220522-17:46:54] epoch: 159 train-loss: 0.0342 eval-loss: 0.1217 train-acc: 0.9897 test-acc: 0.9676 \n",
            "[LOG 20220522-17:47:10] epoch: 160 train-loss: 0.0341 eval-loss: 0.1218 train-acc: 0.9898 test-acc: 0.9689 \n",
            "[LOG 20220522-17:47:27] epoch: 161 train-loss: 0.0358 eval-loss: 0.1128 train-acc: 0.9896 test-acc: 0.9711 \n",
            "[LOG 20220522-17:47:43] epoch: 162 train-loss: 0.0342 eval-loss: 0.1286 train-acc: 0.9894 test-acc: 0.9667 \n",
            "[LOG 20220522-17:48:00] epoch: 163 train-loss: 0.0321 eval-loss: 0.1246 train-acc: 0.9908 test-acc: 0.9691 \n",
            "[LOG 20220522-17:48:16] epoch: 164 train-loss: 0.0322 eval-loss: 0.1214 train-acc: 0.9907 test-acc: 0.9689 \n",
            "[LOG 20220522-17:48:33] epoch: 165 train-loss: 0.031 eval-loss: 0.1223 train-acc: 0.9913 test-acc: 0.9691 \n",
            "[LOG 20220522-17:48:49] epoch: 166 train-loss: 0.0311 eval-loss: 0.1246 train-acc: 0.9911 test-acc: 0.966 \n",
            "[LOG 20220522-17:49:06] epoch: 167 train-loss: 0.0305 eval-loss: 0.1193 train-acc: 0.9908 test-acc: 0.9704 \n",
            "[LOG 20220522-17:49:22] epoch: 168 train-loss: 0.0306 eval-loss: 0.1166 train-acc: 0.9914 test-acc: 0.9707 \n",
            "[LOG 20220522-17:49:39] epoch: 169 train-loss: 0.0299 eval-loss: 0.1176 train-acc: 0.9909 test-acc: 0.9703 \n",
            "[LOG 20220522-17:49:56] epoch: 170 train-loss: 0.0312 eval-loss: 0.1162 train-acc: 0.991 test-acc: 0.9716 \n",
            "[LOG 20220522-17:50:12] epoch: 171 train-loss: 0.0285 eval-loss: 0.1192 train-acc: 0.9919 test-acc: 0.9692 \n",
            "[LOG 20220522-17:50:29] epoch: 172 train-loss: 0.0266 eval-loss: 0.1269 train-acc: 0.9926 test-acc: 0.9705 \n",
            "[LOG 20220522-17:50:45] epoch: 173 train-loss: 0.0283 eval-loss: 0.1162 train-acc: 0.9915 test-acc: 0.972 \n",
            "[LOG 20220522-17:51:02] epoch: 174 train-loss: 0.0264 eval-loss: 0.1178 train-acc: 0.9927 test-acc: 0.9709 \n",
            "[LOG 20220522-17:51:18] epoch: 175 train-loss: 0.0264 eval-loss: 0.1461 train-acc: 0.9926 test-acc: 0.9631 \n",
            "[LOG 20220522-17:51:35] epoch: 176 train-loss: 0.0267 eval-loss: 0.1231 train-acc: 0.9928 test-acc: 0.9706 \n",
            "[LOG 20220522-17:51:52] epoch: 177 train-loss: 0.0249 eval-loss: 0.1235 train-acc: 0.9931 test-acc: 0.9696 \n",
            "[LOG 20220522-17:52:08] epoch: 178 train-loss: 0.028 eval-loss: 0.124 train-acc: 0.9914 test-acc: 0.9697 \n",
            "[LOG 20220522-17:52:25] epoch: 179 train-loss: 0.0266 eval-loss: 0.1159 train-acc: 0.9925 test-acc: 0.9721 \n",
            "[LOG 20220522-17:52:41] epoch: 180 train-loss: 0.0271 eval-loss: 0.1188 train-acc: 0.9926 test-acc: 0.9718 \n",
            "[LOG 20220522-17:52:58] epoch: 181 train-loss: 0.0253 eval-loss: 0.1168 train-acc: 0.9923 test-acc: 0.9713 \n",
            "[LOG 20220522-17:53:15] epoch: 182 train-loss: 0.0313 eval-loss: 0.1329 train-acc: 0.9917 test-acc: 0.9689 \n",
            "[LOG 20220522-17:53:31] epoch: 183 train-loss: 0.0255 eval-loss: 0.1438 train-acc: 0.9926 test-acc: 0.9641 \n",
            "[LOG 20220522-17:53:48] epoch: 184 train-loss: 0.0273 eval-loss: 0.1219 train-acc: 0.9933 test-acc: 0.9705 \n",
            "[LOG 20220522-17:54:04] epoch: 185 train-loss: 0.0259 eval-loss: 0.1338 train-acc: 0.9924 test-acc: 0.9676 \n",
            "[LOG 20220522-17:54:21] epoch: 186 train-loss: 0.0252 eval-loss: 0.1237 train-acc: 0.9929 test-acc: 0.97 \n",
            "[LOG 20220522-17:54:37] epoch: 187 train-loss: 0.0244 eval-loss: 0.1447 train-acc: 0.9934 test-acc: 0.9649 \n",
            "[LOG 20220522-17:54:54] epoch: 188 train-loss: 0.0219 eval-loss: 0.1207 train-acc: 0.994 test-acc: 0.9722 \n",
            "[LOG 20220522-17:55:11] epoch: 189 train-loss: 0.0245 eval-loss: 0.1213 train-acc: 0.9926 test-acc: 0.9707 \n",
            "[LOG 20220522-17:55:27] epoch: 190 train-loss: 0.0211 eval-loss: 0.1313 train-acc: 0.9941 test-acc: 0.9686 \n",
            "[LOG 20220522-17:55:44] epoch: 191 train-loss: 0.0192 eval-loss: 0.1161 train-acc: 0.9951 test-acc: 0.9736 \n",
            "[LOG 20220522-17:56:01] epoch: 192 train-loss: 0.0211 eval-loss: 0.1275 train-acc: 0.9942 test-acc: 0.97 \n",
            "[LOG 20220522-17:56:17] epoch: 193 train-loss: 0.0217 eval-loss: 0.1234 train-acc: 0.9941 test-acc: 0.9715 \n",
            "[LOG 20220522-17:56:34] epoch: 194 train-loss: 0.0193 eval-loss: 0.1394 train-acc: 0.995 test-acc: 0.9683 \n",
            "[LOG 20220522-17:56:50] epoch: 195 train-loss: 0.0385 eval-loss: 0.1177 train-acc: 0.9919 test-acc: 0.9726 \n",
            "[LOG 20220522-17:57:07] epoch: 196 train-loss: 0.0202 eval-loss: 0.1241 train-acc: 0.9944 test-acc: 0.9707 \n",
            "[LOG 20220522-17:57:24] epoch: 197 train-loss: 0.0177 eval-loss: 0.1416 train-acc: 0.9953 test-acc: 0.9675 \n",
            "[LOG 20220522-17:57:40] epoch: 198 train-loss: 0.0183 eval-loss: 0.1158 train-acc: 0.9952 test-acc: 0.9728 \n",
            "[LOG 20220522-17:57:57] epoch: 199 train-loss: 0.0182 eval-loss: 0.1229 train-acc: 0.9955 test-acc: 0.972 \n"
          ]
        }
      ]
    },
    {
      "cell_type": "markdown",
      "source": [
        "**Plot Training Epochs vs Classification Error**"
      ],
      "metadata": {
        "id": "iLj91kwjkt3Z"
      }
    },
    {
      "cell_type": "code",
      "source": [
        "# prepare plot\n",
        "fig = plt.figure()\n",
        "ax = fig.add_subplot(111)\n",
        "\n",
        "# add grid\n",
        "ax.grid(linestyle='dotted')\n",
        "\n",
        "# plot the training epochs vs. the epochs' classification error\n",
        "ax.plot(np.array(range(1, len(train_epoch_losses)+1)), train_epoch_losses, label='training epoch loss (blue)')\n",
        "ax.plot(np.array(range(1, len(test_epoch_losses)+1)), test_epoch_losses, label='test epoch loss (orange)')\n",
        "\n",
        "\n",
        "# add axis legends\n",
        "ax.set_xlabel(\"[training epoch $e_i$]\", fontsize=10)\n",
        "ax.set_ylabel(\"[Classification Error $\\mathcal{L}^{NLL}$]\", fontsize=10)\n",
        "\n",
        "# set plot legend\n",
        "plt.legend(loc=\"upper right\", numpoints=1, fancybox=True)\n",
        "\n",
        "# add plot title\n",
        "plt.title('Training Epochs $e_i$ vs. Classification Error $L^{NLL}$', fontsize=10);"
      ],
      "metadata": {
        "colab": {
          "base_uri": "https://localhost:8080/",
          "height": 301
        },
        "id": "8gRpjHg5GGm6",
        "outputId": "cf4149ba-60c9-417b-b995-b7b92d7e73c0"
      },
      "execution_count": null,
      "outputs": [
        {
          "output_type": "display_data",
          "data": {
            "text/plain": [
              "<Figure size 432x288 with 1 Axes>"
            ],
            "image/png": "[encoded data removed]"
          },
          "metadata": {
            "needs_background": "light"
          }
        }
      ]
    },
    {
      "cell_type": "markdown",
      "source": [
        "**Plot Training Epochs vs Classification Accuracy**"
      ],
      "metadata": {
        "id": "vLEkPnu3k4fa"
      }
    },
    {
      "cell_type": "code",
      "source": [
        "# prepare plot\n",
        "fig = plt.figure()\n",
        "ax = fig.add_subplot(111)\n",
        "\n",
        "# add grid\n",
        "ax.grid(linestyle='dotted')\n",
        "\n",
        "# plot the training epochs vs. the epochs' classification error\n",
        "ax.plot(np.array(range(1, len(train_epoch_accuracies)+1)), train_epoch_accuracies, label='training epoch accuracy (blue)')\n",
        "ax.plot(np.array(range(1, len(test_epoch_accuracies)+1)), test_epoch_accuracies, label='test epoch accuracy (blue)')\n",
        "\n",
        "\n",
        "# add axis legends\n",
        "ax.set_xlabel(\"[training epoch $e_i$]\", fontsize=10)\n",
        "ax.set_ylabel(\"[Classification Accuracy]\", fontsize=10)\n",
        "\n",
        "# set plot legend\n",
        "plt.legend(loc=\"lower right\", numpoints=1, fancybox=True)\n",
        "\n",
        "# add plot title\n",
        "plt.title('Training Epochs vs. Classification Accuracy', fontsize=10);"
      ],
      "metadata": {
        "id": "XtAGFXHTPaDL",
        "colab": {
          "base_uri": "https://localhost:8080/",
          "height": 297
        },
        "outputId": "8dd4401c-457b-4ff1-a376-1aa8578aee16"
      },
      "execution_count": null,
      "outputs": [
        {
          "output_type": "display_data",
          "data": {
            "text/plain": [
              "<Figure size 432x288 with 1 Axes>"
            ],
            "image/png": "[encoded data removed]"
          },
          "metadata": {
            "needs_background": "light"
          }
        }
      ]
    },
    {
      "cell_type": "markdown",
      "source": [
        "## **7. Neural Network Model Evaluation**"
      ],
      "metadata": {
        "id": "7edyDeiSHVFZ"
      }
    },
    {
      "cell_type": "markdown",
      "source": [
        "### **7.1 Load best model**"
      ],
      "metadata": {
        "id": "oyqiRanVHZvD"
      }
    },
    {
      "cell_type": "markdown",
      "source": [
        "Load best model and push it to enabled device (in evaluation mode)."
      ],
      "metadata": {
        "id": "NSRJqu5Ak_pI"
      }
    },
    {
      "cell_type": "code",
      "source": [
        "# best model is model with lowest test epoch loss (given that we see no significant overfitting before that in the above chart)\n",
        "\n",
        "#define best model\n",
        "best_model_name = '/content/ConvNet/models_eurosat/eurosat_model_epoch_{}.pth'.format(test_epoch_losses.index(min(test_epoch_losses)))\n",
        "manual_model_name = '/content/ConvNet/models_eurosat/eurosat_model_epoch_{}.pth'.format(50)\n",
        "# init pre-trained model class\n",
        "model = EurosatNet()\n",
        "learning_rate = 0.001\n",
        "optimizer = optim.SGD(params=model.parameters(), lr=learning_rate)\n",
        "\n",
        "best_model_name"
      ],
      "metadata": {
        "id": "_T6n1GpO0XdG",
        "colab": {
          "base_uri": "https://localhost:8080/",
          "height": 37
        },
        "outputId": "cb3e1413-5045-4f25-b03d-8ec1d83d7b06"
      },
      "execution_count": null,
      "outputs": [
        {
          "output_type": "execute_result",
          "data": {
            "text/plain": [
              "'/content/ConvNet/models_eurosat/eurosat_model_epoch_161.pth'"
            ],
            "application/vnd.google.colaboratory.intrinsic+json": {
              "type": "string"
            }
          },
          "metadata": {},
          "execution_count": 156
        }
      ]
    },
    {
      "cell_type": "code",
      "source": [
        "def load_checkpoint(model, optimizer, filename):\n",
        "  \"\"\"Input: model, optimizer and filename where model states are stored. \n",
        "  Loads saved state of the model, \n",
        "  Outout: model, optimizer and start epoch of loaded model\"\"\"\n",
        "\n",
        "  # Note: Input model & optimizer should be pre-defined. This routine only updates their states.\n",
        "  if os.path.isfile(filename):\n",
        "      print(\"=> loading checkpoint '{}'\".format(filename))\n",
        "      checkpoint = torch.load(filename)\n",
        "      start_epoch = checkpoint['epoch']\n",
        "      model.load_state_dict(checkpoint['net_state'])\n",
        "      optimizer.load_state_dict(checkpoint['optimizer_state'])\n",
        "      print(\"=> loaded checkpoint '{}' (epoch {})\".format(filename, checkpoint['epoch']))\n",
        "  else:\n",
        "      print(\"=> no checkpoint found at '{}'\".format(filename))\n",
        "\n",
        "  return model, optimizer, start_epoch"
      ],
      "metadata": {
        "id": "2zX7B1SgV7zi"
      },
      "execution_count": null,
      "outputs": []
    },
    {
      "cell_type": "code",
      "source": [
        "# load model and optimizer state.\n",
        "model, optimizer, start_epoch = load_checkpoint(model, optimizer, best_model_name)\n",
        "#model, optimizer, start_epoch = load_checkpoint(model, optimizer, manual_model_name)"
      ],
      "metadata": {
        "colab": {
          "base_uri": "https://localhost:8080/"
        },
        "id": "fJLT7d8iWQ4L",
        "outputId": "8667043d-8176-4d52-9027-766bfe911444"
      },
      "execution_count": null,
      "outputs": [
        {
          "output_type": "stream",
          "name": "stdout",
          "text": [
            "=> loading checkpoint '/content/ConvNet/models_eurosat/eurosat_model_epoch_161.pth'\n",
            "=> loaded checkpoint '/content/ConvNet/models_eurosat/eurosat_model_epoch_161.pth' (epoch 161)\n"
          ]
        }
      ]
    },
    {
      "cell_type": "code",
      "source": [
        "# push model to enabled device\n",
        "model.to(device)\n",
        "\n",
        "# set model in evaluation mode\n",
        "model.eval()"
      ],
      "metadata": {
        "colab": {
          "base_uri": "https://localhost:8080/"
        },
        "id": "N2cVhUPU1YGl",
        "outputId": "406ee297-5053-4e67-dbe4-816f031d1d87"
      },
      "execution_count": null,
      "outputs": [
        {
          "output_type": "execute_result",
          "data": {
            "text/plain": [
              "EurosatNet(\n",
              "  (conv1): Conv2d(13, 32, kernel_size=(7, 7), stride=(1, 1), padding=(3, 3))\n",
              "  (pool1): MaxPool2d(kernel_size=2, stride=2, padding=0, dilation=1, ceil_mode=False)\n",
              "  (conv2): Conv2d(32, 64, kernel_size=(7, 7), stride=(1, 1), padding=(3, 3))\n",
              "  (pool2): MaxPool2d(kernel_size=2, stride=2, padding=0, dilation=1, ceil_mode=False)\n",
              "  (conv3): Conv2d(64, 128, kernel_size=(7, 7), stride=(1, 1), padding=(3, 3))\n",
              "  (pool3): MaxPool2d(kernel_size=2, stride=2, padding=0, dilation=1, ceil_mode=False)\n",
              "  (linear1): Linear(in_features=8192, out_features=2048, bias=True)\n",
              "  (relu1): ReLU(inplace=True)\n",
              "  (linear2): Linear(in_features=2048, out_features=2048, bias=True)\n",
              "  (relu2): ReLU(inplace=True)\n",
              "  (linear3): Linear(in_features=2048, out_features=10, bias=True)\n",
              "  (relu3): ReLU(inplace=True)\n",
              "  (logsoftmax): LogSoftmax(dim=1)\n",
              ")"
            ]
          },
          "metadata": {},
          "execution_count": 159
        }
      ]
    },
    {
      "cell_type": "markdown",
      "source": [
        "### **7.2 Evaluate Model on own test data**\n",
        "\n"
      ],
      "metadata": {
        "id": "2ru-tl6pSEkg"
      }
    },
    {
      "cell_type": "code",
      "source": [
        "# init collection of mini-batch losses\n",
        "predictions = []\n",
        "pred_labels = []\n",
        "\n",
        "# iterate over all-mini batches\n",
        "for i, (images, labels) in enumerate(test_dataloader):\n",
        "\n",
        "    # run forward pass through the network\n",
        "    images = images.to(device, dtype = torch.float32)\n",
        "    output = model(images)\n",
        "\n",
        "    # collect predictons\n",
        "    batch_predictions = torch.argmax(output, dim=1)\n",
        "\n",
        "    # collect mini-batch reconstruction loss\n",
        "    predictions.extend(batch_predictions.cpu().detach().numpy().tolist())\n",
        "    pred_labels.extend(labels.cpu().detach().numpy().tolist())\n",
        "\n",
        "print('\\nTotal predictions: {}'.format(len(predictions)))"
      ],
      "metadata": {
        "colab": {
          "base_uri": "https://localhost:8080/"
        },
        "id": "uknijpbBSJ04",
        "outputId": "ea1a69ff-d17b-4f83-820f-cea15c0e0d31"
      },
      "execution_count": null,
      "outputs": [
        {
          "output_type": "stream",
          "name": "stdout",
          "text": [
            "\n",
            "Total predictions: 8640\n"
          ]
        }
      ]
    },
    {
      "cell_type": "code",
      "source": [
        "pred_acc = metrics.accuracy_score(pred_labels, predictions)\n",
        "print(\"Prediction accuracy for own test set: \" + str(pred_acc))"
      ],
      "metadata": {
        "id": "BplwMtvVQjM7",
        "colab": {
          "base_uri": "https://localhost:8080/"
        },
        "outputId": "6ba96998-3cc4-4a56-f9c9-c6af3093dc58"
      },
      "execution_count": null,
      "outputs": [
        {
          "output_type": "stream",
          "name": "stdout",
          "text": [
            "Prediction accuracy for own test set: 0.9710648148148148\n"
          ]
        }
      ]
    },
    {
      "cell_type": "code",
      "source": [
        "import seaborn as sns\n",
        "\n",
        "# determine classification matrix of the predicted and target classes\n",
        "mat = confusion_matrix(pred_labels, predictions)\n",
        "\n",
        "# initialize the plot and define size\n",
        "plt.figure(figsize=(12, 12))\n",
        "\n",
        "# plot corresponding confusion matrix\n",
        "sns.heatmap(mat.T, square=True, annot=True, fmt='d', cbar=False, cmap='YlOrRd_r', xticklabels=classes, yticklabels=classes)\n",
        "plt.tick_params(axis='both', which='major', labelsize=8, labelbottom = False, bottom=False, top = False, left = False, labeltop=True)\n",
        "\n",
        "# set plot title\n",
        "plt.title('Eurosat classification matrix')\n",
        "\n",
        "# set plot axis lables\n",
        "plt.xlabel('[true label]')\n",
        "plt.ylabel('[predicted label]');"
      ],
      "metadata": {
        "colab": {
          "base_uri": "https://localhost:8080/",
          "height": 729
        },
        "id": "jJG0wizTSZqx",
        "outputId": "fafbfdfc-755a-43df-fb7e-885c603d468a"
      },
      "execution_count": null,
      "outputs": [
        {
          "output_type": "display_data",
          "data": {
            "text/plain": [
              "<Figure size 864x864 with 1 Axes>"
            ],
            "image/png": "[encoded data removed]"
          },
          "metadata": {
            "needs_background": "light"
          }
        }
      ]
    },
    {
      "cell_type": "markdown",
      "source": [
        "### **7.3 Model evaluation on official test data**"
      ],
      "metadata": {
        "id": "TD-78y2cShtL"
      }
    },
    {
      "cell_type": "markdown",
      "source": [
        "#### **7.3.1 Prepare official test data**\n",
        "Two main steps: \n",
        "1. Load all test samples\n",
        "2. Add NDVI Index and normalize data to match our training data preparation steps "
      ],
      "metadata": {
        "id": "XPhCqtBIKB6L"
      }
    },
    {
      "cell_type": "code",
      "source": [
        "def create_testset(sample_paths):\n",
        "  \"\"\"Input: list of paths where samples are stored\n",
        "  Loads all test samples, adds NDVI Index and normalizes data to match our training data preparation.\n",
        "  Output: 4D array of test data images (NxHxWxC); 1D array of test labels\"\"\"\n",
        "\n",
        "  test_data = []\n",
        "  test_ids = []\n",
        "\n",
        "  # loop through paths to load each test sample \n",
        "  for i in range(len(sample_paths)):\n",
        "    sample = sample_paths[i]\n",
        "    number = sample.split('/')[-1].split('_')[1].split('.')[0]\n",
        "    img = np.load(sample)\n",
        "    \n",
        "    #add NDVI index\n",
        "    index = np.array((img[:,:,7]-img[:,:,3])/(img[:,:,7]+img[:,:,3]))\n",
        "    img = np.append(img, index.reshape(64,64,1), axis = 2)\n",
        "\n",
        "    test_ids.append(number)\n",
        "    test_data.append(np.array(img))\n",
        "\n",
        "  test_data = np.array(test_data)\n",
        "  test_data = normalize_data(test_data)\n",
        "  test_data = np.moveaxis(test_data, 3, 1)\n",
        "  test_ids = np.array(test_ids)\n",
        "  return test_data, test_ids"
      ],
      "metadata": {
        "id": "RduXuqq5NR4v"
      },
      "execution_count": null,
      "outputs": []
    },
    {
      "cell_type": "code",
      "source": [
        "#create official testset and transform it into a pytorch Tensor. \n",
        "#error occurs due to NDVI index\n",
        "official_test_data, official_test_id = create_testset(test_samples)\n",
        "official_test_data_tensor = torch.from_numpy(np.array(official_test_data))"
      ],
      "metadata": {
        "id": "H4nHeLKMNR06",
        "colab": {
          "base_uri": "https://localhost:8080/"
        },
        "outputId": "690c5f1b-797f-4267-e61b-31225ffac680"
      },
      "execution_count": null,
      "outputs": [
        {
          "output_type": "stream",
          "name": "stderr",
          "text": [
            "/usr/local/lib/python3.7/dist-packages/ipykernel_launcher.py:16: RuntimeWarning: invalid value encountered in true_divide\n",
            "  app.launch_new_instance()\n"
          ]
        }
      ]
    },
    {
      "cell_type": "code",
      "source": [
        "print(\"Testset shape: \" + str(official_test_data.shape))"
      ],
      "metadata": {
        "colab": {
          "base_uri": "https://localhost:8080/"
        },
        "id": "p-OOYWfIb667",
        "outputId": "9772d0d5-a196-400b-ae2e-fe744245c578"
      },
      "execution_count": null,
      "outputs": [
        {
          "output_type": "stream",
          "name": "stdout",
          "text": [
            "Testset shape: (4232, 13, 64, 64)\n"
          ]
        }
      ]
    },
    {
      "cell_type": "code",
      "source": [
        "# specifiy and instantiate PyTorch data loader that feeds the image tensors to our neural network\n",
        "official_test_dataloader = torch.utils.data.DataLoader(official_test_data_tensor, batch_size=8, shuffle=False)"
      ],
      "metadata": {
        "id": "b2thCBBVffUD"
      },
      "execution_count": null,
      "outputs": []
    },
    {
      "cell_type": "markdown",
      "source": [
        "#### **7.3.2 Evaluate official test set**"
      ],
      "metadata": {
        "id": "5ok57rFALffk"
      }
    },
    {
      "cell_type": "code",
      "source": [
        "# init collection of mini-batch losses\n",
        "predictions = []\n",
        "\n",
        "# iterate over all-mini batches\n",
        "for i, images in enumerate(official_test_dataloader):\n",
        "\n",
        "    # run forward pass through the network\n",
        "    images = images.to(device, dtype = torch.float32)\n",
        "    output = model(images)\n",
        "\n",
        "    # collect predictons\n",
        "    batch_predictions = torch.argmax(output, dim=1)\n",
        "\n",
        "    # print log each 100 evaluation mini-batch\n",
        "    if i % 100 == 0:\n",
        "\n",
        "      # print mini-batch loss loss\n",
        "      now = datetime.utcnow().strftime(\"%Y%m%d-%H:%M:%S\")\n",
        "      # multiply the number of mini-batches (i) by their size (8 images per mini-batch)\n",
        "      print('[LOG {}] {} prediction(s) collected'.format(str(now), str(i*8)))\n",
        "\n",
        "    # collect mini-batch reconstruction loss\n",
        "    predictions.extend(batch_predictions.cpu().detach().numpy().tolist())\n",
        "    # pred_labels.extend(labels.cpu().detach().numpy().tolist())\n",
        "\n",
        "print('\\nTotal predictions: {}'.format(len(predictions)))"
      ],
      "metadata": {
        "colab": {
          "base_uri": "https://localhost:8080/"
        },
        "id": "JSPpy7xHN8o2",
        "outputId": "18b31bf1-a6d3-451d-8206-6b3afd005246"
      },
      "execution_count": null,
      "outputs": [
        {
          "output_type": "stream",
          "name": "stdout",
          "text": [
            "[LOG 20220522-18:22:06] 0 prediction(s) collected\n",
            "[LOG 20220522-18:22:07] 800 prediction(s) collected\n",
            "[LOG 20220522-18:22:07] 1600 prediction(s) collected\n",
            "[LOG 20220522-18:22:07] 2400 prediction(s) collected\n",
            "[LOG 20220522-18:22:08] 3200 prediction(s) collected\n",
            "[LOG 20220522-18:22:08] 4000 prediction(s) collected\n",
            "\n",
            "Total predictions: 4232\n"
          ]
        }
      ]
    },
    {
      "cell_type": "markdown",
      "source": [
        "#### **7.3.3 Transform output into Kaggle format**"
      ],
      "metadata": {
        "id": "X0uimuQ4LtoR"
      }
    },
    {
      "cell_type": "code",
      "source": [
        "import pandas as pd\n",
        "\n",
        "def create_output(predictions, test_ids):\n",
        "  \"\"\"Input: list of predictions, list of test_ids.\n",
        "  Links prediction list to test_id and creates a corresponding dataframe. \n",
        "  Output: Pandas dataframe\"\"\"\n",
        "\n",
        "  output = {}\n",
        "  for i in range(len(predictions)):\n",
        "    no = test_ids[i]\n",
        "    output[no] = classes[predictions[i]]\n",
        "  df = pd.DataFrame(output.items(), columns = ['test_id', 'label'])\n",
        "  return df"
      ],
      "metadata": {
        "id": "4OkjKIwRZVhZ"
      },
      "execution_count": null,
      "outputs": []
    },
    {
      "cell_type": "code",
      "source": [
        "result_df = create_output(predictions, official_test_id)"
      ],
      "metadata": {
        "id": "Lu3RFrnfe8FZ"
      },
      "execution_count": null,
      "outputs": []
    },
    {
      "cell_type": "code",
      "source": [
        "result_df.head(10)"
      ],
      "metadata": {
        "colab": {
          "base_uri": "https://localhost:8080/",
          "height": 363
        },
        "id": "8ufMA38wp-4w",
        "outputId": "bafce56a-3591-4190-bf02-94043d27adef"
      },
      "execution_count": null,
      "outputs": [
        {
          "output_type": "execute_result",
          "data": {
            "text/plain": [
              "  test_id                 label\n",
              "0    3782  HerbaceousVegetation\n",
              "1    3909               Highway\n",
              "2    3596               SeaLake\n",
              "3    1634            AnnualCrop\n",
              "4    3983                 River\n",
              "5    2114                 River\n",
              "6    1154                Forest\n",
              "7    3126            AnnualCrop\n",
              "8    2094               Highway\n",
              "9    2869         PermanentCrop"
            ],
            "text/html": [
              "\n",
              "  <div id=\"df-0d0e766e-2ac7-45f2-9a13-53314bd56a16\">\n",
              "    <div class=\"colab-df-container\">\n",
              "      <div>\n",
              "<style scoped>\n",
              "    .dataframe tbody tr th:only-of-type {\n",
              "        vertical-align: middle;\n",
              "    }\n",
              "\n",
              "    .dataframe tbody tr th {\n",
              "        vertical-align: top;\n",
              "    }\n",
              "\n",
              "    .dataframe thead th {\n",
              "        text-align: right;\n",
              "    }\n",
              "</style>\n",
              "<table border=\"1\" class=\"dataframe\">\n",
              "  <thead>\n",
              "    <tr style=\"text-align: right;\">\n",
              "      <th></th>\n",
              "      <th>test_id</th>\n",
              "      <th>label</th>\n",
              "    </tr>\n",
              "  </thead>\n",
              "  <tbody>\n",
              "    <tr>\n",
              "      <th>0</th>\n",
              "      <td>3782</td>\n",
              "      <td>HerbaceousVegetation</td>\n",
              "    </tr>\n",
              "    <tr>\n",
              "      <th>1</th>\n",
              "      <td>3909</td>\n",
              "      <td>Highway</td>\n",
              "    </tr>\n",
              "    <tr>\n",
              "      <th>2</th>\n",
              "      <td>3596</td>\n",
              "      <td>SeaLake</td>\n",
              "    </tr>\n",
              "    <tr>\n",
              "      <th>3</th>\n",
              "      <td>1634</td>\n",
              "      <td>AnnualCrop</td>\n",
              "    </tr>\n",
              "    <tr>\n",
              "      <th>4</th>\n",
              "      <td>3983</td>\n",
              "      <td>River</td>\n",
              "    </tr>\n",
              "    <tr>\n",
              "      <th>5</th>\n",
              "      <td>2114</td>\n",
              "      <td>River</td>\n",
              "    </tr>\n",
              "    <tr>\n",
              "      <th>6</th>\n",
              "      <td>1154</td>\n",
              "      <td>Forest</td>\n",
              "    </tr>\n",
              "    <tr>\n",
              "      <th>7</th>\n",
              "      <td>3126</td>\n",
              "      <td>AnnualCrop</td>\n",
              "    </tr>\n",
              "    <tr>\n",
              "      <th>8</th>\n",
              "      <td>2094</td>\n",
              "      <td>Highway</td>\n",
              "    </tr>\n",
              "    <tr>\n",
              "      <th>9</th>\n",
              "      <td>2869</td>\n",
              "      <td>PermanentCrop</td>\n",
              "    </tr>\n",
              "  </tbody>\n",
              "</table>\n",
              "</div>\n",
              "      <button class=\"colab-df-convert\" onclick=\"convertToInteractive('df-0d0e766e-2ac7-45f2-9a13-53314bd56a16')\"\n",
              "              title=\"Convert this dataframe to an interactive table.\"\n",
              "              style=\"display:none;\">\n",
              "        \n",
              "  <svg xmlns=\"http://www.w3.org/2000/svg\" height=\"24px\"viewBox=\"0 0 24 24\"\n",
              "       width=\"24px\">\n",
              "    <path d=\"M0 0h24v24H0V0z\" fill=\"none\"/>\n",
              "    <path d=\"M18.56 5.44l.94 2.06.94-2.06 2.06-.94-2.06-.94-.94-2.06-.94 2.06-2.06.94zm-11 1L8.5 8.5l.94-2.06 2.06-.94-2.06-.94L8.5 2.5l-.94 2.06-2.06.94zm10 10l.94 2.06.94-2.06 2.06-.94-2.06-.94-.94-2.06-.94 2.06-2.06.94z\"/><path d=\"M17.41 7.96l-1.37-1.37c-.4-.4-.92-.59-1.43-.59-.52 0-1.04.2-1.43.59L10.3 9.45l-7.72 7.72c-.78.78-.78 2.05 0 2.83L4 21.41c.39.39.9.59 1.41.59.51 0 1.02-.2 1.41-.59l7.78-7.78 2.81-2.81c.8-.78.8-2.07 0-2.86zM5.41 20L4 18.59l7.72-7.72 1.47 1.35L5.41 20z\"/>\n",
              "  </svg>\n",
              "      </button>\n",
              "      \n",
              "  <style>\n",
              "    .colab-df-container {\n",
              "      display:flex;\n",
              "      flex-wrap:wrap;\n",
              "      gap: 12px;\n",
              "    }\n",
              "\n",
              "    .colab-df-convert {\n",
              "      background-color: #E8F0FE;\n",
              "      border: none;\n",
              "      border-radius: 50%;\n",
              "      cursor: pointer;\n",
              "      display: none;\n",
              "      fill: #1967D2;\n",
              "      height: 32px;\n",
              "      padding: 0 0 0 0;\n",
              "      width: 32px;\n",
              "    }\n",
              "\n",
              "    .colab-df-convert:hover {\n",
              "      background-color: #E2EBFA;\n",
              "      box-shadow: 0px 1px 2px rgba(60, 64, 67, 0.3), 0px 1px 3px 1px rgba(60, 64, 67, 0.15);\n",
              "      fill: #174EA6;\n",
              "    }\n",
              "\n",
              "    [theme=dark] .colab-df-convert {\n",
              "      background-color: #3B4455;\n",
              "      fill: #D2E3FC;\n",
              "    }\n",
              "\n",
              "    [theme=dark] .colab-df-convert:hover {\n",
              "      background-color: #434B5C;\n",
              "      box-shadow: 0px 1px 3px 1px rgba(0, 0, 0, 0.15);\n",
              "      filter: drop-shadow(0px 1px 2px rgba(0, 0, 0, 0.3));\n",
              "      fill: #FFFFFF;\n",
              "    }\n",
              "  </style>\n",
              "\n",
              "      <script>\n",
              "        const buttonEl =\n",
              "          document.querySelector('#df-0d0e766e-2ac7-45f2-9a13-53314bd56a16 button.colab-df-convert');\n",
              "        buttonEl.style.display =\n",
              "          google.colab.kernel.accessAllowed ? 'block' : 'none';\n",
              "\n",
              "        async function convertToInteractive(key) {\n",
              "          const element = document.querySelector('#df-0d0e766e-2ac7-45f2-9a13-53314bd56a16');\n",
              "          const dataTable =\n",
              "            await google.colab.kernel.invokeFunction('convertToInteractive',\n",
              "                                                     [key], {});\n",
              "          if (!dataTable) return;\n",
              "\n",
              "          const docLinkHtml = 'Like what you see? Visit the ' +\n",
              "            '<a target=\"_blank\" href=https://colab.research.google.com/notebooks/data_table.ipynb>data table notebook</a>'\n",
              "            + ' to learn more about interactive tables.';\n",
              "          element.innerHTML = '';\n",
              "          dataTable['output_type'] = 'display_data';\n",
              "          await google.colab.output.renderOutput(dataTable, element);\n",
              "          const docLink = document.createElement('div');\n",
              "          docLink.innerHTML = docLinkHtml;\n",
              "          element.appendChild(docLink);\n",
              "        }\n",
              "      </script>\n",
              "    </div>\n",
              "  </div>\n",
              "  "
            ]
          },
          "metadata": {},
          "execution_count": 96
        }
      ]
    },
    {
      "cell_type": "code",
      "source": [
        "#quick plausability check by looking at the distribution of classified labels\n",
        "result_df.label.value_counts()"
      ],
      "metadata": {
        "colab": {
          "base_uri": "https://localhost:8080/"
        },
        "id": "a0qKVlxEH2Ja",
        "outputId": "a3a5e7c2-68ce-486b-ea26-549266b3f0ba"
      },
      "execution_count": null,
      "outputs": [
        {
          "output_type": "execute_result",
          "data": {
            "text/plain": [
              "SeaLake                 1013\n",
              "PermanentCrop            691\n",
              "Highway                  553\n",
              "HerbaceousVegetation     490\n",
              "Pasture                  430\n",
              "Industrial               331\n",
              "Residential              207\n",
              "Forest                   183\n",
              "River                    177\n",
              "AnnualCrop               157\n",
              "Name: label, dtype: int64"
            ]
          },
          "metadata": {},
          "execution_count": 167
        }
      ]
    },
    {
      "cell_type": "code",
      "source": [
        "# export to csv file\n",
        "# result_df.to_csv('submission.csv', index = False)"
      ],
      "metadata": {
        "id": "jCeZ5b7bZ6U-"
      },
      "execution_count": null,
      "outputs": []
    }
  ],
  "metadata": {
    "kernelspec": {
      "display_name": "Python 3",
      "language": "python",
      "name": "python3"
    },
    "language_info": {
      "codemirror_mode": {
        "name": "ipython",
        "version": 3
      },
      "file_extension": ".py",
      "mimetype": "text/x-python",
      "name": "python",
      "nbconvert_exporter": "python",
      "pygments_lexer": "ipython3",
      "version": "3.8.5"
    },
    "colab": {
      "name": "Kopie von Local_Coding_Challenge_ConvNet_Adj Aug.ipynb",
      "provenance": [],
      "collapsed_sections": [],
      "machine_shape": "hm"
    },
    "accelerator": "GPU"
  },
  "nbformat": 4,
  "nbformat_minor": 0
}
